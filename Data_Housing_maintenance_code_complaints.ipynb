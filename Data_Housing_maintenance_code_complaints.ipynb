{
 "cells": [
  {
   "cell_type": "markdown",
   "metadata": {},
   "source": [
    "Complaint problems:\n",
    "Date range: 2014-2015\n",
    "Only closed complaints (exclude “conditions are still open” complaints)\n",
    "\n",
    "1. Read in housing maintenance code complaints dataset (HMCC)(only records with status dates after 2014, and statusid = 2), including only the following features:\n",
    "-complaintID\n",
    "-boroughID\n",
    "-block\n",
    "-lot\n",
    "2. Construct the BBL using the Borough, block, and lot features in the housing "
   ]
  },
  {
   "cell_type": "code",
   "execution_count": 10,
   "metadata": {
    "collapsed": false
   },
   "outputs": [],
   "source": [
    "import pandas as pd\n",
    "import numpy as np\n",
    "\n",
    "#to use API calls\n",
    "def get_data():\n",
    "    '''\n",
    "    Returns DataFrame with housing maintenance code complaints dataset (only records with status dates after 2014, \n",
    "    and statusid = 2)\n",
    "    '''\n",
    "    query = (\"https://data.cityofnewyork.us/resource/jspd-2hr7.json?statusid=2\"\n",
    "             \"&$where=statusdate%20between%20'2014-01-01T00:00:00'%20and%20'2015-10-01T00:00:00'\"\n",
    "             \"&$limit=1000\")\n",
    "    hmc_complaints = pd.read_json(query)\n",
    "    i = 1 \n",
    "    more_data_available = True\n",
    "    while more_data_available:\n",
    "        query = (\"https://data.cityofnewyork.us/resource/jspd-2hr7.json?statusid=2\"\n",
    "                 \"&$where=statusdate%20between%20'2014-01-01T00:00:00'%20and%20'2015-10-01T00:00:00'\"\n",
    "                 \"&$limit=1000&$order=:id&$offset=\" + str(i*1000))\n",
    "        more_data = pd.read_json(query)\n",
    "        hmc_complaints = pd.concat([hmc_complaints, more_data],ignore_index=True)\n",
    "        print 'Currently have ', len(hmc_complaints), ' records'\n",
    "        i += 1\n",
    "        \n",
    "        if len(more_data) < 1000:\n",
    "            more_data_available = False\n",
    "    return pd.DataFrame(hmc_complaints)\n",
    "\n",
    "\n",
    "#API approach\n",
    "data = get_data()\n",
    "print data.shape"
   ]
  },
  {
   "cell_type": "code",
   "execution_count": 11,
   "metadata": {
    "collapsed": false
   },
   "outputs": [],
   "source": [
    "#Standart approach\n",
    "\n",
    "data = pd.read_csv(\"HMCC.csv\")"
   ]
  },
  {
   "cell_type": "code",
   "execution_count": 12,
   "metadata": {
    "collapsed": false
   },
   "outputs": [
    {
     "name": "stdout",
     "output_type": "stream",
     "text": [
      "   ComplaintID  BoroughID  Block  Lot         BBL\n",
      "0      6960137          1   1904    4  1019040004\n",
      "1      6960832          1   1918    4  1019180004\n",
      "2      6946867          1   1083    1  1010830001\n",
      "3      6966946          1   2073   29  1020730029\n",
      "4      6963755          1   1869   44  1018690044\n"
     ]
    }
   ],
   "source": [
    "def make_BBL(borough, block, lot): \n",
    "    '''\n",
    "    The borough code is one numeric digit. \n",
    "    The tax block is one to five numeric digits, preceded with leading zeros \n",
    "    when the block is less than five digits.\n",
    "    The tax lot is one to four digits and is preceded with leading zeros\n",
    "    when the lot is less than four digits.\n",
    "    \n",
    "    >>> make_BBL(1,16,100)\n",
    "    1000160100\n",
    "    >>> make_BBL(3,15828,7501)\n",
    "    3158287501\n",
    "    '''\n",
    "    return int(str(borough) + str(block).zfill(5) + str(lot).zfill(4))\n",
    "    \n",
    "data = data[['ComplaintID', 'BoroughID', 'Block', 'Lot']]\n",
    "data['BBL'] = map(make_BBL, data['BoroughID'], data['Block'], data['Lot'])\n",
    "print data.head(n = 5)"
   ]
  },
  {
   "cell_type": "code",
   "execution_count": null,
   "metadata": {
    "collapsed": true
   },
   "outputs": [],
   "source": []
  },
  {
   "cell_type": "code",
   "execution_count": null,
   "metadata": {
    "collapsed": true
   },
   "outputs": [],
   "source": []
  }
 ],
 "metadata": {
  "kernelspec": {
   "display_name": "Python 2",
   "language": "python",
   "name": "python2"
  },
  "language_info": {
   "codemirror_mode": {
    "name": "ipython",
    "version": 2
   },
   "file_extension": ".py",
   "mimetype": "text/x-python",
   "name": "python",
   "nbconvert_exporter": "python",
   "pygments_lexer": "ipython2",
   "version": "2.7.10"
  }
 },
 "nbformat": 4,
 "nbformat_minor": 0
}
