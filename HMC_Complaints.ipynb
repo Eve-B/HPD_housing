{
 "cells": [
  {
   "cell_type": "markdown",
   "metadata": {},
   "source": [
    "Complaint problems:\n",
    "Date range: 2014-2015\n",
    "Only closed complaints (exclude “conditions are still open” complaints)\n",
    "\n",
    "1. Read in housing maintenance code complaints dataset (HMCC)(only records with status dates after 2014, and statusid = 2), including only the following features:\n",
    "-complaintID\n",
    "-boroughID\n",
    "-block\n",
    "-lot\n",
    "2. Construct the BBL using the Borough, block, and lot features in the housing "
   ]
  },
  {
   "cell_type": "code",
   "execution_count": null,
   "metadata": {
    "collapsed": false
   },
   "outputs": [],
   "source": [
    "import pandas as pd\n",
    "import numpy as np\n",
    "import re\n",
    "\n",
    "def get_data():\n",
    "    '''\n",
    "    Returns DataFrame with housing maintenance code complaints dataset (only records with status dates after 2014, \n",
    "    and statusid = 2)\n",
    "    '''\n",
    "    \n",
    "    query = (\"https://data.cityofnewyork.us/resource/jspd-2hr7.json?statusid=2\"\n",
    "             \"&$where=statusdate%20between%20'2014-01-01T00:00:00'%20and%20'2015-10-01T00:00:00'\"\n",
    "             \"&$limit=1000\")\n",
    "    hmc_complaints = pd.read_json(query)\n",
    "    i = 1 \n",
    "    more_data_available = True\n",
    "    while more_data_available:\n",
    "        query = (\"https://data.cityofnewyork.us/resource/jspd-2hr7.json?statusid=2\"\n",
    "                 \"&$where=statusdate%20between%20'2014-01-01T00:00:00'%20and%20'2015-10-01T00:00:00'\"\n",
    "                 \"&$limit=1000&$order=:id&$offset=\" + str(i*1000))\n",
    "        more_data = pd.read_json(query)\n",
    "        hmc_complaints = pd.concat([hmc_complaints, more_data],ignore_index=True)\n",
    "        #print 'Currently have ', len(hmc_complaints), ' records'\n",
    "        i += 1\n",
    "        \n",
    "        if len(more_data) < 1000:\n",
    "            more_data = False\n",
    "    return pd.DataFrame(hmc_complaints)\n",
    "          \n",
    "data = get_data()\n",
    "print data.shape"
   ]
  },
  {
   "cell_type": "code",
   "execution_count": 34,
   "metadata": {
    "collapsed": false
   },
   "outputs": [
    {
     "name": "stdout",
     "output_type": "stream",
     "text": [
      "[u'apartment' u'block' u'borough' u'boroughid' u'buildingid'\n",
      " u'communityboard' u'complaintid' u'housenumber' u'lot' u'receiveddate'\n",
      " u'status' u'statusdate' u'statusid' u'streetname' u'zip']\n",
      "     block  statusid\n",
      "0    12538         2\n",
      "1     1742         2\n",
      "2    12964         2\n",
      "3     9119         2\n",
      "4    11728         2\n",
      "5     3174         2\n",
      "6     3155         2\n",
      "7     8863         2\n",
      "8    10080         2\n",
      "9     9415         2\n",
      "10    5017         2\n",
      "11    9397         2\n",
      "12    1496         2\n",
      "13    8669         2\n",
      "14    8864         2\n",
      "15    1256         2\n",
      "16    1961         2\n",
      "17    2869         2\n",
      "18    4807         2\n",
      "19    5022         2\n",
      "20    1960         2\n",
      "21    1579         2\n",
      "22    5121         2\n",
      "23    4493         2\n",
      "24    3321         2\n",
      "25    9513         2\n",
      "26    2373         2\n",
      "27    1485         2\n",
      "28   11136         2\n",
      "29    4414         2\n",
      "..     ...       ...\n",
      "970   2174         2\n",
      "971   2101         2\n",
      "972   2174         2\n",
      "973   1053         2\n",
      "974   3145         2\n",
      "975   3743         2\n",
      "976   3714         2\n",
      "977    475         2\n",
      "978   2174         2\n",
      "979   1969         2\n",
      "980   1969         2\n",
      "981   3104         2\n",
      "982   2074         2\n",
      "983   7352         2\n",
      "984   2797         2\n",
      "985   7352         2\n",
      "986   2797         2\n",
      "987   3104         2\n",
      "988   2876         2\n",
      "989   1467         2\n",
      "990   1467         2\n",
      "991   2797         2\n",
      "992   1467         2\n",
      "993   1467         2\n",
      "994   1922         2\n",
      "995   2174         2\n",
      "996   4819         2\n",
      "997   2174         2\n",
      "998   2174         2\n",
      "999    486         2\n",
      "\n",
      "[1000 rows x 2 columns]\n"
     ]
    }
   ],
   "source": [
    "print data.columns.values\n",
    "\n",
    "'''\n",
    "select just the following columns\n",
    "-complaintID\n",
    "-boroughID\n",
    "-block\n",
    "-lot\n",
    "'''\n",
    "data = data[['complaintid', 'boroughid', 'block', 'lot']]"
   ]
  },
  {
   "cell_type": "code",
   "execution_count": null,
   "metadata": {
    "collapsed": true
   },
   "outputs": [],
   "source": []
  },
  {
   "cell_type": "code",
   "execution_count": null,
   "metadata": {
    "collapsed": true
   },
   "outputs": [],
   "source": []
  },
  {
   "cell_type": "code",
   "execution_count": null,
   "metadata": {
    "collapsed": true
   },
   "outputs": [],
   "source": []
  }
 ],
 "metadata": {
  "kernelspec": {
   "display_name": "Python 2",
   "language": "python",
   "name": "python2"
  },
  "language_info": {
   "codemirror_mode": {
    "name": "ipython",
    "version": 2
   },
   "file_extension": ".py",
   "mimetype": "text/x-python",
   "name": "python",
   "nbconvert_exporter": "python",
   "pygments_lexer": "ipython2",
   "version": "2.7.10"
  }
 },
 "nbformat": 4,
 "nbformat_minor": 0
}
