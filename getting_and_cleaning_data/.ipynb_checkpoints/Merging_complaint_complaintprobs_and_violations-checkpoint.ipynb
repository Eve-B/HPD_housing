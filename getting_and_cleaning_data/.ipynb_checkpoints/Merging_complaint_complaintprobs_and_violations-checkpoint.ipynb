{
 "cells": [
  {
   "cell_type": "markdown",
   "metadata": {},
   "source": [
    "# Merging cleaned complaints, complaint problems, and violation datasets"
   ]
  },
  {
   "cell_type": "markdown",
   "metadata": {},
   "source": [
    "In this notebook, we will merge the following cleaned and processed datasets:\n",
    "- Complaints\n",
    "- Complaint problems\n",
    "- Housing maintenance code violations\n",
    "\n",
    "Following these merges, we will have the following informative features:\n",
    "* Codes describing the specific problems lodged by the tenant(s)\n",
    "* Building violation histories (total number of Class A, B, and C violations reported over the last 5 years)\n",
    "* BoroughID\n",
    "\n",
    "In addition, we will have the building's BBL, which will eventually be used to merge with PLUTO BBL-level features."
   ]
  },
  {
   "cell_type": "code",
   "execution_count": 1,
   "metadata": {
    "collapsed": false
   },
   "outputs": [
    {
     "data": {
      "text/html": [
       "<div>\n",
       "<table border=\"1\" class=\"dataframe\">\n",
       "  <thead>\n",
       "    <tr style=\"text-align: right;\">\n",
       "      <th></th>\n",
       "      <th>ProblemID</th>\n",
       "      <th>ComplaintID</th>\n",
       "      <th>UnitTypeID</th>\n",
       "      <th>SpaceTypeID</th>\n",
       "      <th>TypeID</th>\n",
       "      <th>MajorCategoryID</th>\n",
       "      <th>MinorCategoryID</th>\n",
       "      <th>CodeID</th>\n",
       "      <th>StatusDate</th>\n",
       "      <th>StatusDescriptionID</th>\n",
       "      <th>BoroughID</th>\n",
       "      <th>ReceivedDate</th>\n",
       "      <th>BBL</th>\n",
       "    </tr>\n",
       "  </thead>\n",
       "  <tbody>\n",
       "    <tr>\n",
       "      <th>0</th>\n",
       "      <td>15404853</td>\n",
       "      <td>7442155</td>\n",
       "      <td>92</td>\n",
       "      <td>550</td>\n",
       "      <td>1</td>\n",
       "      <td>59</td>\n",
       "      <td>349</td>\n",
       "      <td>2716</td>\n",
       "      <td>2015-04-22</td>\n",
       "      <td>5</td>\n",
       "      <td>2</td>\n",
       "      <td>2015-04-21</td>\n",
       "      <td>2032500071</td>\n",
       "    </tr>\n",
       "    <tr>\n",
       "      <th>1</th>\n",
       "      <td>15361014</td>\n",
       "      <td>7422938</td>\n",
       "      <td>91</td>\n",
       "      <td>543</td>\n",
       "      <td>1</td>\n",
       "      <td>59</td>\n",
       "      <td>348</td>\n",
       "      <td>2713</td>\n",
       "      <td>2015-04-07</td>\n",
       "      <td>1</td>\n",
       "      <td>2</td>\n",
       "      <td>2015-04-04</td>\n",
       "      <td>2025060121</td>\n",
       "    </tr>\n",
       "    <tr>\n",
       "      <th>2</th>\n",
       "      <td>15407691</td>\n",
       "      <td>7443212</td>\n",
       "      <td>91</td>\n",
       "      <td>543</td>\n",
       "      <td>1</td>\n",
       "      <td>59</td>\n",
       "      <td>348</td>\n",
       "      <td>2713</td>\n",
       "      <td>2015-04-25</td>\n",
       "      <td>1</td>\n",
       "      <td>2</td>\n",
       "      <td>2015-04-22</td>\n",
       "      <td>2039230028</td>\n",
       "    </tr>\n",
       "    <tr>\n",
       "      <th>3</th>\n",
       "      <td>15397248</td>\n",
       "      <td>7439053</td>\n",
       "      <td>91</td>\n",
       "      <td>542</td>\n",
       "      <td>1</td>\n",
       "      <td>63</td>\n",
       "      <td>375</td>\n",
       "      <td>2817</td>\n",
       "      <td>2015-04-27</td>\n",
       "      <td>3</td>\n",
       "      <td>2</td>\n",
       "      <td>2015-04-18</td>\n",
       "      <td>2025080014</td>\n",
       "    </tr>\n",
       "    <tr>\n",
       "      <th>4</th>\n",
       "      <td>15397249</td>\n",
       "      <td>7439053</td>\n",
       "      <td>91</td>\n",
       "      <td>543</td>\n",
       "      <td>3</td>\n",
       "      <td>63</td>\n",
       "      <td>376</td>\n",
       "      <td>2823</td>\n",
       "      <td>2015-04-27</td>\n",
       "      <td>3</td>\n",
       "      <td>2</td>\n",
       "      <td>2015-04-18</td>\n",
       "      <td>2025080014</td>\n",
       "    </tr>\n",
       "    <tr>\n",
       "      <th>5</th>\n",
       "      <td>15397250</td>\n",
       "      <td>7439053</td>\n",
       "      <td>91</td>\n",
       "      <td>543</td>\n",
       "      <td>3</td>\n",
       "      <td>63</td>\n",
       "      <td>376</td>\n",
       "      <td>2820</td>\n",
       "      <td>2015-04-27</td>\n",
       "      <td>2</td>\n",
       "      <td>2</td>\n",
       "      <td>2015-04-18</td>\n",
       "      <td>2025080014</td>\n",
       "    </tr>\n",
       "    <tr>\n",
       "      <th>6</th>\n",
       "      <td>15397251</td>\n",
       "      <td>7439053</td>\n",
       "      <td>91</td>\n",
       "      <td>543</td>\n",
       "      <td>3</td>\n",
       "      <td>63</td>\n",
       "      <td>376</td>\n",
       "      <td>2822</td>\n",
       "      <td>2015-04-27</td>\n",
       "      <td>2</td>\n",
       "      <td>2</td>\n",
       "      <td>2015-04-18</td>\n",
       "      <td>2025080014</td>\n",
       "    </tr>\n",
       "    <tr>\n",
       "      <th>7</th>\n",
       "      <td>15397252</td>\n",
       "      <td>7439053</td>\n",
       "      <td>91</td>\n",
       "      <td>541</td>\n",
       "      <td>1</td>\n",
       "      <td>63</td>\n",
       "      <td>375</td>\n",
       "      <td>2817</td>\n",
       "      <td>2015-04-27</td>\n",
       "      <td>3</td>\n",
       "      <td>2</td>\n",
       "      <td>2015-04-18</td>\n",
       "      <td>2025080014</td>\n",
       "    </tr>\n",
       "    <tr>\n",
       "      <th>8</th>\n",
       "      <td>15384685</td>\n",
       "      <td>7433253</td>\n",
       "      <td>92</td>\n",
       "      <td>550</td>\n",
       "      <td>1</td>\n",
       "      <td>59</td>\n",
       "      <td>349</td>\n",
       "      <td>2716</td>\n",
       "      <td>2015-04-17</td>\n",
       "      <td>5</td>\n",
       "      <td>3</td>\n",
       "      <td>2015-04-14</td>\n",
       "      <td>3058080038</td>\n",
       "    </tr>\n",
       "    <tr>\n",
       "      <th>9</th>\n",
       "      <td>15401607</td>\n",
       "      <td>7440826</td>\n",
       "      <td>91</td>\n",
       "      <td>543</td>\n",
       "      <td>1</td>\n",
       "      <td>59</td>\n",
       "      <td>348</td>\n",
       "      <td>2713</td>\n",
       "      <td>2015-04-24</td>\n",
       "      <td>1</td>\n",
       "      <td>3</td>\n",
       "      <td>2015-04-20</td>\n",
       "      <td>3056380047</td>\n",
       "    </tr>\n",
       "  </tbody>\n",
       "</table>\n",
       "</div>"
      ],
      "text/plain": [
       "   ProblemID  ComplaintID  UnitTypeID  SpaceTypeID  TypeID  MajorCategoryID  \\\n",
       "0   15404853      7442155          92          550       1               59   \n",
       "1   15361014      7422938          91          543       1               59   \n",
       "2   15407691      7443212          91          543       1               59   \n",
       "3   15397248      7439053          91          542       1               63   \n",
       "4   15397249      7439053          91          543       3               63   \n",
       "5   15397250      7439053          91          543       3               63   \n",
       "6   15397251      7439053          91          543       3               63   \n",
       "7   15397252      7439053          91          541       1               63   \n",
       "8   15384685      7433253          92          550       1               59   \n",
       "9   15401607      7440826          91          543       1               59   \n",
       "\n",
       "   MinorCategoryID  CodeID StatusDate  StatusDescriptionID  BoroughID  \\\n",
       "0              349    2716 2015-04-22                    5          2   \n",
       "1              348    2713 2015-04-07                    1          2   \n",
       "2              348    2713 2015-04-25                    1          2   \n",
       "3              375    2817 2015-04-27                    3          2   \n",
       "4              376    2823 2015-04-27                    3          2   \n",
       "5              376    2820 2015-04-27                    2          2   \n",
       "6              376    2822 2015-04-27                    2          2   \n",
       "7              375    2817 2015-04-27                    3          2   \n",
       "8              349    2716 2015-04-17                    5          3   \n",
       "9              348    2713 2015-04-24                    1          3   \n",
       "\n",
       "  ReceivedDate         BBL  \n",
       "0   2015-04-21  2032500071  \n",
       "1   2015-04-04  2025060121  \n",
       "2   2015-04-22  2039230028  \n",
       "3   2015-04-18  2025080014  \n",
       "4   2015-04-18  2025080014  \n",
       "5   2015-04-18  2025080014  \n",
       "6   2015-04-18  2025080014  \n",
       "7   2015-04-18  2025080014  \n",
       "8   2015-04-14  3058080038  \n",
       "9   2015-04-20  3056380047  "
      ]
     },
     "execution_count": 1,
     "metadata": {},
     "output_type": "execute_result"
    }
   ],
   "source": [
    "import pandas as pd\n",
    "from get_clean_complaints import *\n",
    "from get_clean_problem import *\n",
    "\n",
    "complaints = get_clean_complaint_data()\n",
    "problems = get_clean_problem_data()\n",
    "\n",
    "merged_complaints_and_problems = pd.merge(problems, complaints, on='ComplaintID', how='inner')\n",
    "merged_complaints_and_problems.head(10)"
   ]
  },
  {
   "cell_type": "code",
   "execution_count": 7,
   "metadata": {
    "collapsed": false
   },
   "outputs": [
    {
     "name": "stdout",
     "output_type": "stream",
     "text": [
      "(142794, 4) (777240, 10) (281786, 13)\n"
     ]
    }
   ],
   "source": [
    "print complaints.shape, problems.shape, merged_complaints_and_problems.shape"
   ]
  },
  {
   "cell_type": "code",
   "execution_count": 8,
   "metadata": {
    "collapsed": false
   },
   "outputs": [
    {
     "data": {
      "text/plain": [
       "dtype('int64')"
      ]
     },
     "execution_count": 8,
     "metadata": {},
     "output_type": "execute_result"
    }
   ],
   "source": [
    "merged_complaints_and_problems['BBL'].dtype"
   ]
  },
  {
   "cell_type": "code",
   "execution_count": 12,
   "metadata": {
    "collapsed": false
   },
   "outputs": [],
   "source": [
    "from get_clean_violation import *\n",
    "\n",
    "violations = get_clean_violation_data()\n",
    "merged_complaints_problems_violations = pd.merge(merged_complaints_and_problems, violations, on='BBL', how='outer')"
   ]
  },
  {
   "cell_type": "code",
   "execution_count": 13,
   "metadata": {
    "collapsed": false
   },
   "outputs": [
    {
     "data": {
      "text/html": [
       "<div>\n",
       "<table border=\"1\" class=\"dataframe\">\n",
       "  <thead>\n",
       "    <tr style=\"text-align: right;\">\n",
       "      <th></th>\n",
       "      <th>ProblemID</th>\n",
       "      <th>ComplaintID</th>\n",
       "      <th>UnitTypeID</th>\n",
       "      <th>SpaceTypeID</th>\n",
       "      <th>TypeID</th>\n",
       "      <th>MajorCategoryID</th>\n",
       "      <th>MinorCategoryID</th>\n",
       "      <th>CodeID</th>\n",
       "      <th>StatusDate</th>\n",
       "      <th>StatusDescriptionID</th>\n",
       "      <th>BoroughID</th>\n",
       "      <th>ReceivedDate</th>\n",
       "      <th>BBL</th>\n",
       "      <th>Tot_A_violations</th>\n",
       "      <th>Tot_B_violations</th>\n",
       "      <th>Tot_C_violations</th>\n",
       "    </tr>\n",
       "  </thead>\n",
       "  <tbody>\n",
       "    <tr>\n",
       "      <th>0</th>\n",
       "      <td>15404853</td>\n",
       "      <td>7442155</td>\n",
       "      <td>92</td>\n",
       "      <td>550</td>\n",
       "      <td>1</td>\n",
       "      <td>59</td>\n",
       "      <td>349</td>\n",
       "      <td>2716</td>\n",
       "      <td>2015-04-22</td>\n",
       "      <td>5</td>\n",
       "      <td>2</td>\n",
       "      <td>2015-04-21</td>\n",
       "      <td>2032500071</td>\n",
       "      <td>105</td>\n",
       "      <td>117</td>\n",
       "      <td>65</td>\n",
       "    </tr>\n",
       "    <tr>\n",
       "      <th>1</th>\n",
       "      <td>15364458</td>\n",
       "      <td>7424637</td>\n",
       "      <td>92</td>\n",
       "      <td>550</td>\n",
       "      <td>1</td>\n",
       "      <td>59</td>\n",
       "      <td>349</td>\n",
       "      <td>2715</td>\n",
       "      <td>2015-04-07</td>\n",
       "      <td>5</td>\n",
       "      <td>2</td>\n",
       "      <td>2015-04-06</td>\n",
       "      <td>2032500071</td>\n",
       "      <td>105</td>\n",
       "      <td>117</td>\n",
       "      <td>65</td>\n",
       "    </tr>\n",
       "    <tr>\n",
       "      <th>2</th>\n",
       "      <td>15408402</td>\n",
       "      <td>7443551</td>\n",
       "      <td>92</td>\n",
       "      <td>550</td>\n",
       "      <td>1</td>\n",
       "      <td>59</td>\n",
       "      <td>349</td>\n",
       "      <td>2715</td>\n",
       "      <td>2015-04-23</td>\n",
       "      <td>5</td>\n",
       "      <td>2</td>\n",
       "      <td>2015-04-23</td>\n",
       "      <td>2032500071</td>\n",
       "      <td>105</td>\n",
       "      <td>117</td>\n",
       "      <td>65</td>\n",
       "    </tr>\n",
       "    <tr>\n",
       "      <th>3</th>\n",
       "      <td>15362800</td>\n",
       "      <td>7423904</td>\n",
       "      <td>92</td>\n",
       "      <td>550</td>\n",
       "      <td>1</td>\n",
       "      <td>59</td>\n",
       "      <td>349</td>\n",
       "      <td>2715</td>\n",
       "      <td>2015-04-07</td>\n",
       "      <td>5</td>\n",
       "      <td>2</td>\n",
       "      <td>2015-04-05</td>\n",
       "      <td>2032500071</td>\n",
       "      <td>105</td>\n",
       "      <td>117</td>\n",
       "      <td>65</td>\n",
       "    </tr>\n",
       "    <tr>\n",
       "      <th>4</th>\n",
       "      <td>15417853</td>\n",
       "      <td>7448642</td>\n",
       "      <td>92</td>\n",
       "      <td>550</td>\n",
       "      <td>1</td>\n",
       "      <td>59</td>\n",
       "      <td>349</td>\n",
       "      <td>2715</td>\n",
       "      <td>2015-04-27</td>\n",
       "      <td>5</td>\n",
       "      <td>2</td>\n",
       "      <td>2015-04-27</td>\n",
       "      <td>2032500071</td>\n",
       "      <td>105</td>\n",
       "      <td>117</td>\n",
       "      <td>65</td>\n",
       "    </tr>\n",
       "    <tr>\n",
       "      <th>5</th>\n",
       "      <td>15355357</td>\n",
       "      <td>7420578</td>\n",
       "      <td>92</td>\n",
       "      <td>550</td>\n",
       "      <td>1</td>\n",
       "      <td>59</td>\n",
       "      <td>349</td>\n",
       "      <td>2716</td>\n",
       "      <td>2015-04-07</td>\n",
       "      <td>5</td>\n",
       "      <td>2</td>\n",
       "      <td>2015-04-02</td>\n",
       "      <td>2032500071</td>\n",
       "      <td>105</td>\n",
       "      <td>117</td>\n",
       "      <td>65</td>\n",
       "    </tr>\n",
       "  </tbody>\n",
       "</table>\n",
       "</div>"
      ],
      "text/plain": [
       "   ProblemID  ComplaintID  UnitTypeID  SpaceTypeID  TypeID  MajorCategoryID  \\\n",
       "0   15404853      7442155          92          550       1               59   \n",
       "1   15364458      7424637          92          550       1               59   \n",
       "2   15408402      7443551          92          550       1               59   \n",
       "3   15362800      7423904          92          550       1               59   \n",
       "4   15417853      7448642          92          550       1               59   \n",
       "5   15355357      7420578          92          550       1               59   \n",
       "\n",
       "   MinorCategoryID  CodeID StatusDate  StatusDescriptionID  BoroughID  \\\n",
       "0              349    2716 2015-04-22                    5          2   \n",
       "1              349    2715 2015-04-07                    5          2   \n",
       "2              349    2715 2015-04-23                    5          2   \n",
       "3              349    2715 2015-04-07                    5          2   \n",
       "4              349    2715 2015-04-27                    5          2   \n",
       "5              349    2716 2015-04-07                    5          2   \n",
       "\n",
       "  ReceivedDate         BBL  Tot_A_violations  Tot_B_violations  \\\n",
       "0   2015-04-21  2032500071               105               117   \n",
       "1   2015-04-06  2032500071               105               117   \n",
       "2   2015-04-23  2032500071               105               117   \n",
       "3   2015-04-05  2032500071               105               117   \n",
       "4   2015-04-27  2032500071               105               117   \n",
       "5   2015-04-02  2032500071               105               117   \n",
       "\n",
       "   Tot_C_violations  \n",
       "0                65  \n",
       "1                65  \n",
       "2                65  \n",
       "3                65  \n",
       "4                65  \n",
       "5                65  "
      ]
     },
     "execution_count": 13,
     "metadata": {},
     "output_type": "execute_result"
    }
   ],
   "source": [
    "merged_complaints_problems_violations.head(6)"
   ]
  },
  {
   "cell_type": "code",
   "execution_count": 14,
   "metadata": {
    "collapsed": false
   },
   "outputs": [
    {
     "data": {
      "text/plain": [
       "(299099, 16)"
      ]
     },
     "execution_count": 14,
     "metadata": {},
     "output_type": "execute_result"
    }
   ],
   "source": [
    "merged_complaints_problems_violations.shape"
   ]
  },
  {
   "cell_type": "markdown",
   "metadata": {},
   "source": [
    "This outer join resulted in approximately 18000 extra records- thus, we need to drop rows where ProblemID is null."
   ]
  },
  {
   "cell_type": "code",
   "execution_count": 15,
   "metadata": {
    "collapsed": true
   },
   "outputs": [],
   "source": [
    "merged_complaints_problems_violations = merged_complaints_problems_violations[~(merged_complaints_problems_violations['ProblemID'].isnull())]"
   ]
  },
  {
   "cell_type": "code",
   "execution_count": 16,
   "metadata": {
    "collapsed": false
   },
   "outputs": [
    {
     "data": {
      "text/plain": [
       "(281786, 16)"
      ]
     },
     "execution_count": 16,
     "metadata": {},
     "output_type": "execute_result"
    }
   ],
   "source": [
    "merged_complaints_problems_violations.shape"
   ]
  },
  {
   "cell_type": "markdown",
   "metadata": {},
   "source": [
    "Now let's see how many violations histories matched records in our complaint dataset."
   ]
  },
  {
   "cell_type": "code",
   "execution_count": 17,
   "metadata": {
    "collapsed": false
   },
   "outputs": [
    {
     "name": "stdout",
     "output_type": "stream",
     "text": [
      "(64537, 16)\n"
     ]
    }
   ],
   "source": [
    "is_null = merged_complaints_problems_violations[(merged_complaints_problems_violations['Tot_A_violations'].isnull())]\n",
    "print is_null.shape"
   ]
  },
  {
   "cell_type": "markdown",
   "metadata": {},
   "source": [
    "So, of the complaints received between April 1st, 2015 and now, $\\frac{64537 - 281786}{281786} = \\frac{217249}{281786} = 77.1\\%$ are from BBLs with at least one violation between April 1st, 2010, and March 31st, 2015. \n",
    "\n",
    "The last thing we need to do to finish cleaning up the merged dataset is to replace null values with zeros for Tot_A_violations, Tot_B_violations, and Tot_C_violations."
   ]
  },
  {
   "cell_type": "code",
   "execution_count": 18,
   "metadata": {
    "collapsed": false
   },
   "outputs": [
    {
     "name": "stdout",
     "output_type": "stream",
     "text": [
      "0\n",
      "0\n",
      "0\n"
     ]
    }
   ],
   "source": [
    "merged_complaints_problems_violations['Tot_A_violations'] = merged_complaints_problems_violations['Tot_A_violations'].fillna(0)\n",
    "merged_complaints_problems_violations['Tot_B_violations'] = merged_complaints_problems_violations['Tot_B_violations'].fillna(0)\n",
    "merged_complaints_problems_violations['Tot_C_violations'] = merged_complaints_problems_violations['Tot_C_violations'].fillna(0)\n",
    "\n",
    "print merged_complaints_problems_violations['Tot_A_violations'].isnull().sum()\n",
    "print merged_complaints_problems_violations['Tot_B_violations'].isnull().sum()\n",
    "print merged_complaints_problems_violations['Tot_C_violations'].isnull().sum()"
   ]
  },
  {
   "cell_type": "markdown",
   "metadata": {},
   "source": [
    "Now that we've finished the merge and filled NaN values, let's take a look at the data set (and write it to disc as a csv file for fast loading in future sessions)."
   ]
  },
  {
   "cell_type": "code",
   "execution_count": 19,
   "metadata": {
    "collapsed": false
   },
   "outputs": [
    {
     "data": {
      "text/html": [
       "<div>\n",
       "<table border=\"1\" class=\"dataframe\">\n",
       "  <thead>\n",
       "    <tr style=\"text-align: right;\">\n",
       "      <th></th>\n",
       "      <th>ProblemID</th>\n",
       "      <th>ComplaintID</th>\n",
       "      <th>UnitTypeID</th>\n",
       "      <th>SpaceTypeID</th>\n",
       "      <th>TypeID</th>\n",
       "      <th>MajorCategoryID</th>\n",
       "      <th>MinorCategoryID</th>\n",
       "      <th>CodeID</th>\n",
       "      <th>StatusDate</th>\n",
       "      <th>StatusDescriptionID</th>\n",
       "      <th>BoroughID</th>\n",
       "      <th>ReceivedDate</th>\n",
       "      <th>BBL</th>\n",
       "      <th>Tot_A_violations</th>\n",
       "      <th>Tot_B_violations</th>\n",
       "      <th>Tot_C_violations</th>\n",
       "    </tr>\n",
       "  </thead>\n",
       "  <tbody>\n",
       "    <tr>\n",
       "      <th>0</th>\n",
       "      <td>15404853</td>\n",
       "      <td>7442155</td>\n",
       "      <td>92</td>\n",
       "      <td>550</td>\n",
       "      <td>1</td>\n",
       "      <td>59</td>\n",
       "      <td>349</td>\n",
       "      <td>2716</td>\n",
       "      <td>2015-04-22</td>\n",
       "      <td>5</td>\n",
       "      <td>2</td>\n",
       "      <td>2015-04-21</td>\n",
       "      <td>2032500071</td>\n",
       "      <td>105</td>\n",
       "      <td>117</td>\n",
       "      <td>65</td>\n",
       "    </tr>\n",
       "    <tr>\n",
       "      <th>1</th>\n",
       "      <td>15364458</td>\n",
       "      <td>7424637</td>\n",
       "      <td>92</td>\n",
       "      <td>550</td>\n",
       "      <td>1</td>\n",
       "      <td>59</td>\n",
       "      <td>349</td>\n",
       "      <td>2715</td>\n",
       "      <td>2015-04-07</td>\n",
       "      <td>5</td>\n",
       "      <td>2</td>\n",
       "      <td>2015-04-06</td>\n",
       "      <td>2032500071</td>\n",
       "      <td>105</td>\n",
       "      <td>117</td>\n",
       "      <td>65</td>\n",
       "    </tr>\n",
       "    <tr>\n",
       "      <th>2</th>\n",
       "      <td>15408402</td>\n",
       "      <td>7443551</td>\n",
       "      <td>92</td>\n",
       "      <td>550</td>\n",
       "      <td>1</td>\n",
       "      <td>59</td>\n",
       "      <td>349</td>\n",
       "      <td>2715</td>\n",
       "      <td>2015-04-23</td>\n",
       "      <td>5</td>\n",
       "      <td>2</td>\n",
       "      <td>2015-04-23</td>\n",
       "      <td>2032500071</td>\n",
       "      <td>105</td>\n",
       "      <td>117</td>\n",
       "      <td>65</td>\n",
       "    </tr>\n",
       "    <tr>\n",
       "      <th>3</th>\n",
       "      <td>15362800</td>\n",
       "      <td>7423904</td>\n",
       "      <td>92</td>\n",
       "      <td>550</td>\n",
       "      <td>1</td>\n",
       "      <td>59</td>\n",
       "      <td>349</td>\n",
       "      <td>2715</td>\n",
       "      <td>2015-04-07</td>\n",
       "      <td>5</td>\n",
       "      <td>2</td>\n",
       "      <td>2015-04-05</td>\n",
       "      <td>2032500071</td>\n",
       "      <td>105</td>\n",
       "      <td>117</td>\n",
       "      <td>65</td>\n",
       "    </tr>\n",
       "    <tr>\n",
       "      <th>4</th>\n",
       "      <td>15417853</td>\n",
       "      <td>7448642</td>\n",
       "      <td>92</td>\n",
       "      <td>550</td>\n",
       "      <td>1</td>\n",
       "      <td>59</td>\n",
       "      <td>349</td>\n",
       "      <td>2715</td>\n",
       "      <td>2015-04-27</td>\n",
       "      <td>5</td>\n",
       "      <td>2</td>\n",
       "      <td>2015-04-27</td>\n",
       "      <td>2032500071</td>\n",
       "      <td>105</td>\n",
       "      <td>117</td>\n",
       "      <td>65</td>\n",
       "    </tr>\n",
       "    <tr>\n",
       "      <th>5</th>\n",
       "      <td>15355357</td>\n",
       "      <td>7420578</td>\n",
       "      <td>92</td>\n",
       "      <td>550</td>\n",
       "      <td>1</td>\n",
       "      <td>59</td>\n",
       "      <td>349</td>\n",
       "      <td>2716</td>\n",
       "      <td>2015-04-07</td>\n",
       "      <td>5</td>\n",
       "      <td>2</td>\n",
       "      <td>2015-04-02</td>\n",
       "      <td>2032500071</td>\n",
       "      <td>105</td>\n",
       "      <td>117</td>\n",
       "      <td>65</td>\n",
       "    </tr>\n",
       "  </tbody>\n",
       "</table>\n",
       "</div>"
      ],
      "text/plain": [
       "   ProblemID  ComplaintID  UnitTypeID  SpaceTypeID  TypeID  MajorCategoryID  \\\n",
       "0   15404853      7442155          92          550       1               59   \n",
       "1   15364458      7424637          92          550       1               59   \n",
       "2   15408402      7443551          92          550       1               59   \n",
       "3   15362800      7423904          92          550       1               59   \n",
       "4   15417853      7448642          92          550       1               59   \n",
       "5   15355357      7420578          92          550       1               59   \n",
       "\n",
       "   MinorCategoryID  CodeID StatusDate  StatusDescriptionID  BoroughID  \\\n",
       "0              349    2716 2015-04-22                    5          2   \n",
       "1              349    2715 2015-04-07                    5          2   \n",
       "2              349    2715 2015-04-23                    5          2   \n",
       "3              349    2715 2015-04-07                    5          2   \n",
       "4              349    2715 2015-04-27                    5          2   \n",
       "5              349    2716 2015-04-07                    5          2   \n",
       "\n",
       "  ReceivedDate         BBL  Tot_A_violations  Tot_B_violations  \\\n",
       "0   2015-04-21  2032500071               105               117   \n",
       "1   2015-04-06  2032500071               105               117   \n",
       "2   2015-04-23  2032500071               105               117   \n",
       "3   2015-04-05  2032500071               105               117   \n",
       "4   2015-04-27  2032500071               105               117   \n",
       "5   2015-04-02  2032500071               105               117   \n",
       "\n",
       "   Tot_C_violations  \n",
       "0                65  \n",
       "1                65  \n",
       "2                65  \n",
       "3                65  \n",
       "4                65  \n",
       "5                65  "
      ]
     },
     "execution_count": 19,
     "metadata": {},
     "output_type": "execute_result"
    }
   ],
   "source": [
    "merged_complaints_problems_violations.head(6)"
   ]
  },
  {
   "cell_type": "code",
   "execution_count": 21,
   "metadata": {
    "collapsed": true
   },
   "outputs": [],
   "source": [
    "merged_complaints_problems_violations.to_csv('data/merged_complaints_problems_violations.csv')"
   ]
  },
  {
   "cell_type": "markdown",
   "metadata": {},
   "source": [
    "At this point, we have many potentially informative features. Categorical features (which will need to be converted into dummy variables via pd.get_dummies) include:\n",
    "- UnitTypeID\n",
    "- SpaceTypeID\n",
    "- TypeID\n",
    "- MajorCategoryID\n",
    "- MinorCategoryID\n",
    "- CodeID\n",
    "- StatusDescriptionID (our Target Variable)\n",
    "- BoroughID\n",
    "\n",
    "Numeric features include:\n",
    "- Tot_A_violations\n",
    "- Tot_B_violations\n",
    "- Tot_C_violations\n",
    "\n",
    "The following features are (likely) not informative and will likely be dropped after final merges:\n",
    "- BBL\n",
    "- ReceivedDate\n",
    "- StatusDate\n",
    "- ComplaintID\n",
    "- ProblemID"
   ]
  }
 ],
 "metadata": {
  "kernelspec": {
   "display_name": "Python 2",
   "language": "python",
   "name": "python2"
  },
  "language_info": {
   "codemirror_mode": {
    "name": "ipython",
    "version": 2
   },
   "file_extension": ".py",
   "mimetype": "text/x-python",
   "name": "python",
   "nbconvert_exporter": "python",
   "pygments_lexer": "ipython2",
   "version": "2.7.10"
  }
 },
 "nbformat": 4,
 "nbformat_minor": 0
}
