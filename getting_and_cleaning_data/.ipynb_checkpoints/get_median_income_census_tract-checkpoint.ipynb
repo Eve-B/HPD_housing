{
 "cells": [
  {
   "cell_type": "markdown",
   "metadata": {},
   "source": [
    "# Getting income data from 5 year ACS\n",
    "In this iPython notebook, we read in median income from the 5 2009-2013 American Community Survey 5-Year Estimates from the U.S. Census Bureau. Specifically, we're interested in table B19013 from the ACS: \"Median Household Income in the Past 12 Months (in 2013 Inflation-Adjusted Dollars)\" by census tract."
   ]
  },
  {
   "cell_type": "code",
   "execution_count": 29,
   "metadata": {
    "collapsed": false
   },
   "outputs": [
    {
     "name": "stderr",
     "output_type": "stream",
     "text": [
      "/Users/benjaminjakubowski/anaconda/lib/python2.7/site-packages/ipykernel/__main__.py:20: SettingWithCopyWarning: \n",
      "A value is trying to be set on a copy of a slice from a DataFrame.\n",
      "Try using .loc[row_indexer,col_indexer] = value instead\n",
      "\n",
      "See the the caveats in the documentation: http://pandas.pydata.org/pandas-docs/stable/indexing.html#indexing-view-versus-copy\n"
     ]
    },
    {
     "data": {
      "text/html": [
       "<div>\n",
       "<table border=\"1\" class=\"dataframe\">\n",
       "  <thead>\n",
       "    <tr style=\"text-align: right;\">\n",
       "      <th></th>\n",
       "      <th>Median_income</th>\n",
       "      <th>State</th>\n",
       "      <th>CT2010</th>\n",
       "      <th>BoroughID</th>\n",
       "    </tr>\n",
       "  </thead>\n",
       "  <tbody>\n",
       "    <tr>\n",
       "      <th>88</th>\n",
       "      <td>NaN</td>\n",
       "      <td>36</td>\n",
       "      <td>000100</td>\n",
       "      <td>2</td>\n",
       "    </tr>\n",
       "    <tr>\n",
       "      <th>89</th>\n",
       "      <td>69514</td>\n",
       "      <td>36</td>\n",
       "      <td>000200</td>\n",
       "      <td>2</td>\n",
       "    </tr>\n",
       "    <tr>\n",
       "      <th>90</th>\n",
       "      <td>73036</td>\n",
       "      <td>36</td>\n",
       "      <td>000400</td>\n",
       "      <td>2</td>\n",
       "    </tr>\n",
       "    <tr>\n",
       "      <th>91</th>\n",
       "      <td>30817</td>\n",
       "      <td>36</td>\n",
       "      <td>001600</td>\n",
       "      <td>2</td>\n",
       "    </tr>\n",
       "    <tr>\n",
       "      <th>92</th>\n",
       "      <td>33862</td>\n",
       "      <td>36</td>\n",
       "      <td>001900</td>\n",
       "      <td>2</td>\n",
       "    </tr>\n",
       "    <tr>\n",
       "      <th>93</th>\n",
       "      <td>19150</td>\n",
       "      <td>36</td>\n",
       "      <td>002000</td>\n",
       "      <td>2</td>\n",
       "    </tr>\n",
       "  </tbody>\n",
       "</table>\n",
       "</div>"
      ],
      "text/plain": [
       "   Median_income  State  CT2010  BoroughID\n",
       "88           NaN     36  000100          2\n",
       "89         69514     36  000200          2\n",
       "90         73036     36  000400          2\n",
       "91         30817     36  001600          2\n",
       "92         33862     36  001900          2\n",
       "93         19150     36  002000          2"
      ]
     },
     "execution_count": 29,
     "metadata": {},
     "output_type": "execute_result"
    }
   ],
   "source": [
    "import pandas as pd\n",
    "import numpy as np\n",
    "import re\n",
    "\n",
    "def get_clean_income_data():\n",
    "    ## Read in median income data from census\n",
    "    query = 'http://api.census.gov/data/2013/acs5?get=B19013_001E&for=tract:*&in=state:36'\n",
    "    state_income_data = pd.read_csv(query, header=0)\n",
    "    \n",
    "    ##Clean the data    \n",
    "    state_income_data.columns = ['Median_income','State', 'County', 'CT2010','misread']\n",
    "    state_income_data = state_income_data.drop('misread',axis=1)\n",
    "    state_income_data['Median_income'] = state_income_data['Median_income'].map(lambda x: re.sub('[^\\d]', \"\", x))\n",
    "    state_income_data['CT2010'] = state_income_data['CT2010'].map(lambda x: re.sub('[^\\d]', \"\", x))\n",
    "    \n",
    "    ##Select rows by county:\n",
    "    nyc_counties = {'Bronx': 5, 'Kings': 47, 'New_York':61, 'Queens': 81,'Richmond': 85}\n",
    "    city_income = state_income_data[(state_income_data['County'].isin(nyc_counties.values()))]\n",
    "    county_to_boroughID = {5:2, 47:3, 61:1, 81:4, 85:5}\n",
    "    city_income['BoroughID'] = city_income['County'].map(lambda x: county_to_boroughID[x])\n",
    "    city_income = city_income.drop('County', axis=1)\n",
    "    city_income['Median_income'] = city_income['Median_income'].map(lambda x: x if len(str(x)) >=1 else np.NaN)\n",
    "    \n",
    "    return city_income\n",
    "                    \n",
    "\n",
    "income_data = get_clean_income_data()\n",
    "\n",
    "income_data.head(6)"
   ]
  },
  {
   "cell_type": "markdown",
   "metadata": {},
   "source": [
    " Now that we have the median income data by census tract, let's explore the distribution."
   ]
  },
  {
   "cell_type": "code",
   "execution_count": 30,
   "metadata": {
    "collapsed": false
   },
   "outputs": [
    {
     "name": "stdout",
     "output_type": "stream",
     "text": [
      "58\n"
     ]
    }
   ],
   "source": [
    "print income_data[\"Median_income\"].isnull().sum()"
   ]
  },
  {
   "cell_type": "code",
   "execution_count": 31,
   "metadata": {
    "collapsed": false
   },
   "outputs": [
    {
     "name": "stdout",
     "output_type": "stream",
     "text": [
      "0\n"
     ]
    }
   ],
   "source": [
    "print income_data[\"CT2010\"].map(lambda x: len(x)!=6).sum()"
   ]
  },
  {
   "cell_type": "code",
   "execution_count": 32,
   "metadata": {
    "collapsed": false
   },
   "outputs": [],
   "source": [
    "not_null_income = income_data['Median_income'][~(income_data['Median_income'].isnull())]"
   ]
  },
  {
   "cell_type": "code",
   "execution_count": 33,
   "metadata": {
    "collapsed": false
   },
   "outputs": [
    {
     "name": "stdout",
     "output_type": "stream",
     "text": [
      "0\n"
     ]
    }
   ],
   "source": [
    "print not_null_income.isnull().sum()"
   ]
  },
  {
   "cell_type": "code",
   "execution_count": 34,
   "metadata": {
    "collapsed": false
   },
   "outputs": [
    {
     "data": {
      "image/png": "[encoded data removed]",
      "text/plain": [
       "<matplotlib.figure.Figure at 0x103b16890>"
      ]
     },
     "metadata": {},
     "output_type": "display_data"
    }
   ],
   "source": [
    "import matplotlib.pyplot as plt\n",
    "%matplotlib inline\n",
    "\n",
    "not_null_income = not_null_income.astype(int)\n",
    "income_plot = plt.hist(not_null_income.values, bins=100, range=(0,300000))\n",
    "plt.title('Median income (in 2013 dollars) by census tract')\n",
    "plt.show(income_plot)"
   ]
  }
 ],
 "metadata": {
  "kernelspec": {
   "display_name": "Python 2",
   "language": "python",
   "name": "python2"
  },
  "language_info": {
   "codemirror_mode": {
    "name": "ipython",
    "version": 2
   },
   "file_extension": ".py",
   "mimetype": "text/x-python",
   "name": "python",
   "nbconvert_exporter": "python",
   "pygments_lexer": "ipython2",
   "version": "2.7.10"
  }
 },
 "nbformat": 4,
 "nbformat_minor": 0
}
