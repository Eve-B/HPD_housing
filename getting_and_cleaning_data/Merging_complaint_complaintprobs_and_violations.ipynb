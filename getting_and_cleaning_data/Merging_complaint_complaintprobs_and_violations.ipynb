{
 "cells": [
  {
   "cell_type": "markdown",
   "metadata": {},
   "source": [
    "# Merging cleaned complaints, complaint problems, and violation datasets"
   ]
  },
  {
   "cell_type": "markdown",
   "metadata": {},
   "source": [
    "In this notebook, we will merge the following cleaned and processed datasets:\n",
    "- Complaints\n",
    "- Complaint problems\n",
    "- Housing maintenance code violations\n",
    "\n",
    "Following these merges, we will have the following informative features:\n",
    "* Codes describing the specific problems lodged by the tenant(s)\n",
    "* Building violation histories (total number of Class A, B, and C violations reported over the last 5 years)\n",
    "* BoroughID\n",
    "\n",
    "In addition, we will have the building's BBL, which will eventually be used to merge with PLUTO BBL-level features."
   ]
  },
  {
   "cell_type": "code",
   "execution_count": 1,
   "metadata": {
    "collapsed": false
   },
   "outputs": [
    {
     "data": {
      "text/html": [
       "<div>\n",
       "<table border=\"1\" class=\"dataframe\">\n",
       "  <thead>\n",
       "    <tr style=\"text-align: right;\">\n",
       "      <th></th>\n",
       "      <th>ProblemID</th>\n",
       "      <th>ComplaintID</th>\n",
       "      <th>UnitTypeID</th>\n",
       "      <th>SpaceTypeID</th>\n",
       "      <th>TypeID</th>\n",
       "      <th>MajorCategoryID</th>\n",
       "      <th>MinorCategoryID</th>\n",
       "      <th>CodeID</th>\n",
       "      <th>StatusDate</th>\n",
       "      <th>StatusDescriptionID</th>\n",
       "      <th>BoroughID</th>\n",
       "      <th>ReceivedDate</th>\n",
       "      <th>BBL</th>\n",
       "    </tr>\n",
       "  </thead>\n",
       "  <tbody>\n",
       "    <tr>\n",
       "      <th>0</th>\n",
       "      <td>15404853</td>\n",
       "      <td>7442155</td>\n",
       "      <td>92</td>\n",
       "      <td>550</td>\n",
       "      <td>1</td>\n",
       "      <td>59</td>\n",
       "      <td>349</td>\n",
       "      <td>2716</td>\n",
       "      <td>2015-04-22</td>\n",
       "      <td>5</td>\n",
       "      <td>2</td>\n",
       "      <td>2015-04-21</td>\n",
       "      <td>2032500071</td>\n",
       "    </tr>\n",
       "    <tr>\n",
       "      <th>1</th>\n",
       "      <td>15361014</td>\n",
       "      <td>7422938</td>\n",
       "      <td>91</td>\n",
       "      <td>543</td>\n",
       "      <td>1</td>\n",
       "      <td>59</td>\n",
       "      <td>348</td>\n",
       "      <td>2713</td>\n",
       "      <td>2015-04-07</td>\n",
       "      <td>1</td>\n",
       "      <td>2</td>\n",
       "      <td>2015-04-04</td>\n",
       "      <td>2025060121</td>\n",
       "    </tr>\n",
       "    <tr>\n",
       "      <th>2</th>\n",
       "      <td>15407691</td>\n",
       "      <td>7443212</td>\n",
       "      <td>91</td>\n",
       "      <td>543</td>\n",
       "      <td>1</td>\n",
       "      <td>59</td>\n",
       "      <td>348</td>\n",
       "      <td>2713</td>\n",
       "      <td>2015-04-25</td>\n",
       "      <td>1</td>\n",
       "      <td>2</td>\n",
       "      <td>2015-04-22</td>\n",
       "      <td>2039230028</td>\n",
       "    </tr>\n",
       "    <tr>\n",
       "      <th>3</th>\n",
       "      <td>15397248</td>\n",
       "      <td>7439053</td>\n",
       "      <td>91</td>\n",
       "      <td>542</td>\n",
       "      <td>1</td>\n",
       "      <td>63</td>\n",
       "      <td>375</td>\n",
       "      <td>2817</td>\n",
       "      <td>2015-04-27</td>\n",
       "      <td>3</td>\n",
       "      <td>2</td>\n",
       "      <td>2015-04-18</td>\n",
       "      <td>2025080014</td>\n",
       "    </tr>\n",
       "    <tr>\n",
       "      <th>4</th>\n",
       "      <td>15397249</td>\n",
       "      <td>7439053</td>\n",
       "      <td>91</td>\n",
       "      <td>543</td>\n",
       "      <td>3</td>\n",
       "      <td>63</td>\n",
       "      <td>376</td>\n",
       "      <td>2823</td>\n",
       "      <td>2015-04-27</td>\n",
       "      <td>3</td>\n",
       "      <td>2</td>\n",
       "      <td>2015-04-18</td>\n",
       "      <td>2025080014</td>\n",
       "    </tr>\n",
       "    <tr>\n",
       "      <th>5</th>\n",
       "      <td>15397250</td>\n",
       "      <td>7439053</td>\n",
       "      <td>91</td>\n",
       "      <td>543</td>\n",
       "      <td>3</td>\n",
       "      <td>63</td>\n",
       "      <td>376</td>\n",
       "      <td>2820</td>\n",
       "      <td>2015-04-27</td>\n",
       "      <td>2</td>\n",
       "      <td>2</td>\n",
       "      <td>2015-04-18</td>\n",
       "      <td>2025080014</td>\n",
       "    </tr>\n",
       "    <tr>\n",
       "      <th>6</th>\n",
       "      <td>15397251</td>\n",
       "      <td>7439053</td>\n",
       "      <td>91</td>\n",
       "      <td>543</td>\n",
       "      <td>3</td>\n",
       "      <td>63</td>\n",
       "      <td>376</td>\n",
       "      <td>2822</td>\n",
       "      <td>2015-04-27</td>\n",
       "      <td>2</td>\n",
       "      <td>2</td>\n",
       "      <td>2015-04-18</td>\n",
       "      <td>2025080014</td>\n",
       "    </tr>\n",
       "    <tr>\n",
       "      <th>7</th>\n",
       "      <td>15397252</td>\n",
       "      <td>7439053</td>\n",
       "      <td>91</td>\n",
       "      <td>541</td>\n",
       "      <td>1</td>\n",
       "      <td>63</td>\n",
       "      <td>375</td>\n",
       "      <td>2817</td>\n",
       "      <td>2015-04-27</td>\n",
       "      <td>3</td>\n",
       "      <td>2</td>\n",
       "      <td>2015-04-18</td>\n",
       "      <td>2025080014</td>\n",
       "    </tr>\n",
       "    <tr>\n",
       "      <th>8</th>\n",
       "      <td>15384685</td>\n",
       "      <td>7433253</td>\n",
       "      <td>92</td>\n",
       "      <td>550</td>\n",
       "      <td>1</td>\n",
       "      <td>59</td>\n",
       "      <td>349</td>\n",
       "      <td>2716</td>\n",
       "      <td>2015-04-17</td>\n",
       "      <td>5</td>\n",
       "      <td>3</td>\n",
       "      <td>2015-04-14</td>\n",
       "      <td>3058080038</td>\n",
       "    </tr>\n",
       "    <tr>\n",
       "      <th>9</th>\n",
       "      <td>15401607</td>\n",
       "      <td>7440826</td>\n",
       "      <td>91</td>\n",
       "      <td>543</td>\n",
       "      <td>1</td>\n",
       "      <td>59</td>\n",
       "      <td>348</td>\n",
       "      <td>2713</td>\n",
       "      <td>2015-04-24</td>\n",
       "      <td>1</td>\n",
       "      <td>3</td>\n",
       "      <td>2015-04-20</td>\n",
       "      <td>3056380047</td>\n",
       "    </tr>\n",
       "  </tbody>\n",
       "</table>\n",
       "</div>"
      ],
      "text/plain": [
       "   ProblemID  ComplaintID  UnitTypeID  SpaceTypeID  TypeID  MajorCategoryID  \\\n",
       "0   15404853      7442155          92          550       1               59   \n",
       "1   15361014      7422938          91          543       1               59   \n",
       "2   15407691      7443212          91          543       1               59   \n",
       "3   15397248      7439053          91          542       1               63   \n",
       "4   15397249      7439053          91          543       3               63   \n",
       "5   15397250      7439053          91          543       3               63   \n",
       "6   15397251      7439053          91          543       3               63   \n",
       "7   15397252      7439053          91          541       1               63   \n",
       "8   15384685      7433253          92          550       1               59   \n",
       "9   15401607      7440826          91          543       1               59   \n",
       "\n",
       "   MinorCategoryID  CodeID StatusDate  StatusDescriptionID  BoroughID  \\\n",
       "0              349    2716 2015-04-22                    5          2   \n",
       "1              348    2713 2015-04-07                    1          2   \n",
       "2              348    2713 2015-04-25                    1          2   \n",
       "3              375    2817 2015-04-27                    3          2   \n",
       "4              376    2823 2015-04-27                    3          2   \n",
       "5              376    2820 2015-04-27                    2          2   \n",
       "6              376    2822 2015-04-27                    2          2   \n",
       "7              375    2817 2015-04-27                    3          2   \n",
       "8              349    2716 2015-04-17                    5          3   \n",
       "9              348    2713 2015-04-24                    1          3   \n",
       "\n",
       "  ReceivedDate         BBL  \n",
       "0   2015-04-21  2032500071  \n",
       "1   2015-04-04  2025060121  \n",
       "2   2015-04-22  2039230028  \n",
       "3   2015-04-18  2025080014  \n",
       "4   2015-04-18  2025080014  \n",
       "5   2015-04-18  2025080014  \n",
       "6   2015-04-18  2025080014  \n",
       "7   2015-04-18  2025080014  \n",
       "8   2015-04-14  3058080038  \n",
       "9   2015-04-20  3056380047  "
      ]
     },
     "execution_count": 1,
     "metadata": {},
     "output_type": "execute_result"
    }
   ],
   "source": [
    "import pandas as pd\n",
    "from get_clean_complaints import *\n",
    "from get_clean_problem import *\n",
    "\n",
    "complaints = get_clean_complaint_data()\n",
    "problems = get_clean_problem_data()\n",
    "\n",
    "merged_complaints_and_problems = pd.merge(problems, complaints, on='ComplaintID', how='inner')\n",
    "merged_complaints_and_problems.head(10)"
   ]
  },
  {
   "cell_type": "code",
   "execution_count": 2,
   "metadata": {
    "collapsed": false
   },
   "outputs": [
    {
     "name": "stdout",
     "output_type": "stream",
     "text": [
      "(142794, 4) (777240, 10) (281786, 13)\n"
     ]
    }
   ],
   "source": [
    "print complaints.shape, problems.shape, merged_complaints_and_problems.shape"
   ]
  },
  {
   "cell_type": "code",
   "execution_count": 3,
   "metadata": {
    "collapsed": false
   },
   "outputs": [
    {
     "name": "stdout",
     "output_type": "stream",
     "text": [
      "142794 410055 123419\n"
     ]
    }
   ],
   "source": [
    "print len(complaints['ComplaintID'].unique()), len(problems['ComplaintID'].unique()), len(merged_complaints_and_problems['ComplaintID'].unique())"
   ]
  },
  {
   "cell_type": "code",
   "execution_count": 4,
   "metadata": {
    "collapsed": false
   },
   "outputs": [],
   "source": [
    "from get_clean_violation import *\n",
    "\n",
    "violations = get_clean_violation_data()\n",
    "merged_complaints_problems_violations = pd.merge(merged_complaints_and_problems, violations, on='BBL', how='outer')"
   ]
  },
  {
   "cell_type": "code",
   "execution_count": 5,
   "metadata": {
    "collapsed": false
   },
   "outputs": [
    {
     "data": {
      "text/html": [
       "<div>\n",
       "<table border=\"1\" class=\"dataframe\">\n",
       "  <thead>\n",
       "    <tr style=\"text-align: right;\">\n",
       "      <th></th>\n",
       "      <th>ProblemID</th>\n",
       "      <th>ComplaintID</th>\n",
       "      <th>UnitTypeID</th>\n",
       "      <th>SpaceTypeID</th>\n",
       "      <th>TypeID</th>\n",
       "      <th>MajorCategoryID</th>\n",
       "      <th>MinorCategoryID</th>\n",
       "      <th>CodeID</th>\n",
       "      <th>StatusDate</th>\n",
       "      <th>StatusDescriptionID</th>\n",
       "      <th>BoroughID</th>\n",
       "      <th>ReceivedDate</th>\n",
       "      <th>BBL</th>\n",
       "      <th>Tot_A_violations</th>\n",
       "      <th>Tot_B_violations</th>\n",
       "      <th>Tot_C_violations</th>\n",
       "    </tr>\n",
       "  </thead>\n",
       "  <tbody>\n",
       "    <tr>\n",
       "      <th>0</th>\n",
       "      <td>15404853</td>\n",
       "      <td>7442155</td>\n",
       "      <td>92</td>\n",
       "      <td>550</td>\n",
       "      <td>1</td>\n",
       "      <td>59</td>\n",
       "      <td>349</td>\n",
       "      <td>2716</td>\n",
       "      <td>2015-04-22</td>\n",
       "      <td>5</td>\n",
       "      <td>2</td>\n",
       "      <td>2015-04-21</td>\n",
       "      <td>2032500071</td>\n",
       "      <td>105</td>\n",
       "      <td>117</td>\n",
       "      <td>65</td>\n",
       "    </tr>\n",
       "    <tr>\n",
       "      <th>1</th>\n",
       "      <td>15364458</td>\n",
       "      <td>7424637</td>\n",
       "      <td>92</td>\n",
       "      <td>550</td>\n",
       "      <td>1</td>\n",
       "      <td>59</td>\n",
       "      <td>349</td>\n",
       "      <td>2715</td>\n",
       "      <td>2015-04-07</td>\n",
       "      <td>5</td>\n",
       "      <td>2</td>\n",
       "      <td>2015-04-06</td>\n",
       "      <td>2032500071</td>\n",
       "      <td>105</td>\n",
       "      <td>117</td>\n",
       "      <td>65</td>\n",
       "    </tr>\n",
       "    <tr>\n",
       "      <th>2</th>\n",
       "      <td>15408402</td>\n",
       "      <td>7443551</td>\n",
       "      <td>92</td>\n",
       "      <td>550</td>\n",
       "      <td>1</td>\n",
       "      <td>59</td>\n",
       "      <td>349</td>\n",
       "      <td>2715</td>\n",
       "      <td>2015-04-23</td>\n",
       "      <td>5</td>\n",
       "      <td>2</td>\n",
       "      <td>2015-04-23</td>\n",
       "      <td>2032500071</td>\n",
       "      <td>105</td>\n",
       "      <td>117</td>\n",
       "      <td>65</td>\n",
       "    </tr>\n",
       "    <tr>\n",
       "      <th>3</th>\n",
       "      <td>15362800</td>\n",
       "      <td>7423904</td>\n",
       "      <td>92</td>\n",
       "      <td>550</td>\n",
       "      <td>1</td>\n",
       "      <td>59</td>\n",
       "      <td>349</td>\n",
       "      <td>2715</td>\n",
       "      <td>2015-04-07</td>\n",
       "      <td>5</td>\n",
       "      <td>2</td>\n",
       "      <td>2015-04-05</td>\n",
       "      <td>2032500071</td>\n",
       "      <td>105</td>\n",
       "      <td>117</td>\n",
       "      <td>65</td>\n",
       "    </tr>\n",
       "    <tr>\n",
       "      <th>4</th>\n",
       "      <td>15417853</td>\n",
       "      <td>7448642</td>\n",
       "      <td>92</td>\n",
       "      <td>550</td>\n",
       "      <td>1</td>\n",
       "      <td>59</td>\n",
       "      <td>349</td>\n",
       "      <td>2715</td>\n",
       "      <td>2015-04-27</td>\n",
       "      <td>5</td>\n",
       "      <td>2</td>\n",
       "      <td>2015-04-27</td>\n",
       "      <td>2032500071</td>\n",
       "      <td>105</td>\n",
       "      <td>117</td>\n",
       "      <td>65</td>\n",
       "    </tr>\n",
       "    <tr>\n",
       "      <th>5</th>\n",
       "      <td>15355357</td>\n",
       "      <td>7420578</td>\n",
       "      <td>92</td>\n",
       "      <td>550</td>\n",
       "      <td>1</td>\n",
       "      <td>59</td>\n",
       "      <td>349</td>\n",
       "      <td>2716</td>\n",
       "      <td>2015-04-07</td>\n",
       "      <td>5</td>\n",
       "      <td>2</td>\n",
       "      <td>2015-04-02</td>\n",
       "      <td>2032500071</td>\n",
       "      <td>105</td>\n",
       "      <td>117</td>\n",
       "      <td>65</td>\n",
       "    </tr>\n",
       "  </tbody>\n",
       "</table>\n",
       "</div>"
      ],
      "text/plain": [
       "   ProblemID  ComplaintID  UnitTypeID  SpaceTypeID  TypeID  MajorCategoryID  \\\n",
       "0   15404853      7442155          92          550       1               59   \n",
       "1   15364458      7424637          92          550       1               59   \n",
       "2   15408402      7443551          92          550       1               59   \n",
       "3   15362800      7423904          92          550       1               59   \n",
       "4   15417853      7448642          92          550       1               59   \n",
       "5   15355357      7420578          92          550       1               59   \n",
       "\n",
       "   MinorCategoryID  CodeID StatusDate  StatusDescriptionID  BoroughID  \\\n",
       "0              349    2716 2015-04-22                    5          2   \n",
       "1              349    2715 2015-04-07                    5          2   \n",
       "2              349    2715 2015-04-23                    5          2   \n",
       "3              349    2715 2015-04-07                    5          2   \n",
       "4              349    2715 2015-04-27                    5          2   \n",
       "5              349    2716 2015-04-07                    5          2   \n",
       "\n",
       "  ReceivedDate         BBL  Tot_A_violations  Tot_B_violations  \\\n",
       "0   2015-04-21  2032500071               105               117   \n",
       "1   2015-04-06  2032500071               105               117   \n",
       "2   2015-04-23  2032500071               105               117   \n",
       "3   2015-04-05  2032500071               105               117   \n",
       "4   2015-04-27  2032500071               105               117   \n",
       "5   2015-04-02  2032500071               105               117   \n",
       "\n",
       "   Tot_C_violations  \n",
       "0                65  \n",
       "1                65  \n",
       "2                65  \n",
       "3                65  \n",
       "4                65  \n",
       "5                65  "
      ]
     },
     "execution_count": 5,
     "metadata": {},
     "output_type": "execute_result"
    }
   ],
   "source": [
    "merged_complaints_problems_violations.head(6)"
   ]
  },
  {
   "cell_type": "code",
   "execution_count": 6,
   "metadata": {
    "collapsed": false
   },
   "outputs": [
    {
     "data": {
      "text/plain": [
       "(299099, 16)"
      ]
     },
     "execution_count": 6,
     "metadata": {},
     "output_type": "execute_result"
    }
   ],
   "source": [
    "merged_complaints_problems_violations.shape"
   ]
  },
  {
   "cell_type": "markdown",
   "metadata": {},
   "source": [
    "This outer join resulted in approximately 18000 extra records- thus, we need to drop rows where ProblemID is null."
   ]
  },
  {
   "cell_type": "code",
   "execution_count": 9,
   "metadata": {
    "collapsed": true
   },
   "outputs": [],
   "source": [
    "merged_complaints_problems_violations = merged_complaints_problems_violations[~(merged_complaints_problems_violations['ProblemID'].isnull())]"
   ]
  },
  {
   "cell_type": "code",
   "execution_count": 10,
   "metadata": {
    "collapsed": false
   },
   "outputs": [
    {
     "name": "stdout",
     "output_type": "stream",
     "text": [
      "(281786, 16) 123419\n"
     ]
    }
   ],
   "source": [
    "print merged_complaints_problems_violations.shape, len(merged_complaints_problems_violations['ComplaintID'].unique())"
   ]
  },
  {
   "cell_type": "markdown",
   "metadata": {},
   "source": [
    "Now let's see how many violations histories matched records in our complaint dataset."
   ]
  },
  {
   "cell_type": "code",
   "execution_count": 11,
   "metadata": {
    "collapsed": false
   },
   "outputs": [
    {
     "name": "stdout",
     "output_type": "stream",
     "text": [
      "(64537, 16)\n"
     ]
    }
   ],
   "source": [
    "is_null = merged_complaints_problems_violations[(merged_complaints_problems_violations['Tot_A_violations'].isnull())]\n",
    "print is_null.shape"
   ]
  },
  {
   "cell_type": "markdown",
   "metadata": {},
   "source": [
    "So, of the complaints received between April 1st, 2015 and now, $\\frac{64537 - 281786}{281786} = \\frac{217249}{281786} = 77.1\\%$ are from BBLs with at least one violation between April 1st, 2010, and March 31st, 2015. \n",
    "\n",
    "The last thing we need to do to finish cleaning up the merged dataset is to replace null values with zeros for Tot_A_violations, Tot_B_violations, and Tot_C_violations."
   ]
  },
  {
   "cell_type": "code",
   "execution_count": 12,
   "metadata": {
    "collapsed": false
   },
   "outputs": [
    {
     "name": "stdout",
     "output_type": "stream",
     "text": [
      "0\n",
      "0\n",
      "0\n"
     ]
    }
   ],
   "source": [
    "merged_complaints_problems_violations['Tot_A_violations'] = merged_complaints_problems_violations['Tot_A_violations'].fillna(0)\n",
    "merged_complaints_problems_violations['Tot_B_violations'] = merged_complaints_problems_violations['Tot_B_violations'].fillna(0)\n",
    "merged_complaints_problems_violations['Tot_C_violations'] = merged_complaints_problems_violations['Tot_C_violations'].fillna(0)\n",
    "\n",
    "print merged_complaints_problems_violations['Tot_A_violations'].isnull().sum()\n",
    "print merged_complaints_problems_violations['Tot_B_violations'].isnull().sum()\n",
    "print merged_complaints_problems_violations['Tot_C_violations'].isnull().sum()"
   ]
  },
  {
   "cell_type": "markdown",
   "metadata": {},
   "source": [
    "Now that we've finished the merge and filled NaN values, let's take a look at the data set (and write it to disc as a csv file for fast loading in future sessions). First, note at this point, we have many potentially informative features. Categorical features (which will need to be converted into dummy variables via pd.get_dummies) include:\n",
    "- UnitTypeID\n",
    "- SpaceTypeID\n",
    "- TypeID\n",
    "- MajorCategoryID\n",
    "- MinorCategoryID\n",
    "- CodeID\n",
    "- StatusDescriptionID (our Target Variable)\n",
    "- BoroughID\n",
    "\n",
    "Numeric features include:\n",
    "- Tot_A_violations\n",
    "- Tot_B_violations\n",
    "- Tot_C_violations"
   ]
  },
  {
   "cell_type": "code",
   "execution_count": 13,
   "metadata": {
    "collapsed": false
   },
   "outputs": [
    {
     "data": {
      "text/html": [
       "<div>\n",
       "<table border=\"1\" class=\"dataframe\">\n",
       "  <thead>\n",
       "    <tr style=\"text-align: right;\">\n",
       "      <th></th>\n",
       "      <th>ProblemID</th>\n",
       "      <th>ComplaintID</th>\n",
       "      <th>UnitTypeID</th>\n",
       "      <th>SpaceTypeID</th>\n",
       "      <th>TypeID</th>\n",
       "      <th>MajorCategoryID</th>\n",
       "      <th>MinorCategoryID</th>\n",
       "      <th>CodeID</th>\n",
       "      <th>StatusDate</th>\n",
       "      <th>StatusDescriptionID</th>\n",
       "      <th>BoroughID</th>\n",
       "      <th>ReceivedDate</th>\n",
       "      <th>BBL</th>\n",
       "      <th>Tot_A_violations</th>\n",
       "      <th>Tot_B_violations</th>\n",
       "      <th>Tot_C_violations</th>\n",
       "    </tr>\n",
       "  </thead>\n",
       "  <tbody>\n",
       "    <tr>\n",
       "      <th>0</th>\n",
       "      <td>15404853</td>\n",
       "      <td>7442155</td>\n",
       "      <td>92</td>\n",
       "      <td>550</td>\n",
       "      <td>1</td>\n",
       "      <td>59</td>\n",
       "      <td>349</td>\n",
       "      <td>2716</td>\n",
       "      <td>2015-04-22</td>\n",
       "      <td>5</td>\n",
       "      <td>2</td>\n",
       "      <td>2015-04-21</td>\n",
       "      <td>2032500071</td>\n",
       "      <td>105</td>\n",
       "      <td>117</td>\n",
       "      <td>65</td>\n",
       "    </tr>\n",
       "    <tr>\n",
       "      <th>1</th>\n",
       "      <td>15364458</td>\n",
       "      <td>7424637</td>\n",
       "      <td>92</td>\n",
       "      <td>550</td>\n",
       "      <td>1</td>\n",
       "      <td>59</td>\n",
       "      <td>349</td>\n",
       "      <td>2715</td>\n",
       "      <td>2015-04-07</td>\n",
       "      <td>5</td>\n",
       "      <td>2</td>\n",
       "      <td>2015-04-06</td>\n",
       "      <td>2032500071</td>\n",
       "      <td>105</td>\n",
       "      <td>117</td>\n",
       "      <td>65</td>\n",
       "    </tr>\n",
       "    <tr>\n",
       "      <th>2</th>\n",
       "      <td>15408402</td>\n",
       "      <td>7443551</td>\n",
       "      <td>92</td>\n",
       "      <td>550</td>\n",
       "      <td>1</td>\n",
       "      <td>59</td>\n",
       "      <td>349</td>\n",
       "      <td>2715</td>\n",
       "      <td>2015-04-23</td>\n",
       "      <td>5</td>\n",
       "      <td>2</td>\n",
       "      <td>2015-04-23</td>\n",
       "      <td>2032500071</td>\n",
       "      <td>105</td>\n",
       "      <td>117</td>\n",
       "      <td>65</td>\n",
       "    </tr>\n",
       "    <tr>\n",
       "      <th>3</th>\n",
       "      <td>15362800</td>\n",
       "      <td>7423904</td>\n",
       "      <td>92</td>\n",
       "      <td>550</td>\n",
       "      <td>1</td>\n",
       "      <td>59</td>\n",
       "      <td>349</td>\n",
       "      <td>2715</td>\n",
       "      <td>2015-04-07</td>\n",
       "      <td>5</td>\n",
       "      <td>2</td>\n",
       "      <td>2015-04-05</td>\n",
       "      <td>2032500071</td>\n",
       "      <td>105</td>\n",
       "      <td>117</td>\n",
       "      <td>65</td>\n",
       "    </tr>\n",
       "    <tr>\n",
       "      <th>4</th>\n",
       "      <td>15417853</td>\n",
       "      <td>7448642</td>\n",
       "      <td>92</td>\n",
       "      <td>550</td>\n",
       "      <td>1</td>\n",
       "      <td>59</td>\n",
       "      <td>349</td>\n",
       "      <td>2715</td>\n",
       "      <td>2015-04-27</td>\n",
       "      <td>5</td>\n",
       "      <td>2</td>\n",
       "      <td>2015-04-27</td>\n",
       "      <td>2032500071</td>\n",
       "      <td>105</td>\n",
       "      <td>117</td>\n",
       "      <td>65</td>\n",
       "    </tr>\n",
       "    <tr>\n",
       "      <th>5</th>\n",
       "      <td>15355357</td>\n",
       "      <td>7420578</td>\n",
       "      <td>92</td>\n",
       "      <td>550</td>\n",
       "      <td>1</td>\n",
       "      <td>59</td>\n",
       "      <td>349</td>\n",
       "      <td>2716</td>\n",
       "      <td>2015-04-07</td>\n",
       "      <td>5</td>\n",
       "      <td>2</td>\n",
       "      <td>2015-04-02</td>\n",
       "      <td>2032500071</td>\n",
       "      <td>105</td>\n",
       "      <td>117</td>\n",
       "      <td>65</td>\n",
       "    </tr>\n",
       "  </tbody>\n",
       "</table>\n",
       "</div>"
      ],
      "text/plain": [
       "   ProblemID  ComplaintID  UnitTypeID  SpaceTypeID  TypeID  MajorCategoryID  \\\n",
       "0   15404853      7442155          92          550       1               59   \n",
       "1   15364458      7424637          92          550       1               59   \n",
       "2   15408402      7443551          92          550       1               59   \n",
       "3   15362800      7423904          92          550       1               59   \n",
       "4   15417853      7448642          92          550       1               59   \n",
       "5   15355357      7420578          92          550       1               59   \n",
       "\n",
       "   MinorCategoryID  CodeID StatusDate  StatusDescriptionID  BoroughID  \\\n",
       "0              349    2716 2015-04-22                    5          2   \n",
       "1              349    2715 2015-04-07                    5          2   \n",
       "2              349    2715 2015-04-23                    5          2   \n",
       "3              349    2715 2015-04-07                    5          2   \n",
       "4              349    2715 2015-04-27                    5          2   \n",
       "5              349    2716 2015-04-07                    5          2   \n",
       "\n",
       "  ReceivedDate         BBL  Tot_A_violations  Tot_B_violations  \\\n",
       "0   2015-04-21  2032500071               105               117   \n",
       "1   2015-04-06  2032500071               105               117   \n",
       "2   2015-04-23  2032500071               105               117   \n",
       "3   2015-04-05  2032500071               105               117   \n",
       "4   2015-04-27  2032500071               105               117   \n",
       "5   2015-04-02  2032500071               105               117   \n",
       "\n",
       "   Tot_C_violations  \n",
       "0                65  \n",
       "1                65  \n",
       "2                65  \n",
       "3                65  \n",
       "4                65  \n",
       "5                65  "
      ]
     },
     "execution_count": 13,
     "metadata": {},
     "output_type": "execute_result"
    }
   ],
   "source": [
    "merged_complaints_problems_violations.head(6)"
   ]
  },
  {
   "cell_type": "markdown",
   "metadata": {},
   "source": [
    "In addition, let's look at the distributions of informative features:"
   ]
  },
  {
   "cell_type": "code",
   "execution_count": 17,
   "metadata": {
    "collapsed": false
   },
   "outputs": [
    {
     "data": {
      "image/png": "[encoded data removed]",
      "text/plain": [
       "<matplotlib.figure.Figure at 0x10a883390>"
      ]
     },
     "metadata": {},
     "output_type": "display_data"
    }
   ],
   "source": [
    "import matplotlib.pyplot as plt\n",
    "%matplotlib inline\n",
    "\n",
    "StatusPlot = plt.hist(merged_complaints_problems_violations.StatusDescriptionID, bins=10, range=(0,9))\n",
    "plt.title('Distribution of target variable')\n",
    "plt.show(StatusPlot)"
   ]
  },
  {
   "cell_type": "markdown",
   "metadata": {},
   "source": [
    "Recall the codes mean:\n",
    "- 1: Not able to gain access\n",
    "- 2: No violations issued\n",
    "- 3: Violations issued\n",
    "- 4: Violations previously issued\n",
    "- 5: Advised by a tenant (i.e. tenant informed HPD the conditions were corrected)."
   ]
  },
  {
   "cell_type": "code",
   "execution_count": 64,
   "metadata": {
    "collapsed": false
   },
   "outputs": [
    {
     "data": {
      "image/png": "[encoded data removed]",
      "text/plain": [
       "<matplotlib.figure.Figure at 0x119dbde50>"
      ]
     },
     "metadata": {},
     "output_type": "display_data"
    }
   ],
   "source": [
    "BoroPlt = plt.hist(merged_complaints_problems_violations.BoroughID, bins=9, range=(1,9))\n",
    "plt.title('Distribution of problems by Borough')\n",
    "plt.show(BoroPlt)"
   ]
  },
  {
   "cell_type": "markdown",
   "metadata": {},
   "source": [
    "Recall the codes represent:\n",
    "- 1: Manhattan\n",
    "- 2: The Bronx\n",
    "- 3: Brooklyn\n",
    "- 4: Queens\n",
    "- 5: Staten Island"
   ]
  },
  {
   "cell_type": "code",
   "execution_count": 19,
   "metadata": {
    "collapsed": false
   },
   "outputs": [
    {
     "data": {
      "image/png": "[encoded data removed]",
      "text/plain": [
       "<matplotlib.figure.Figure at 0x10b1a0dd0>"
      ]
     },
     "metadata": {},
     "output_type": "display_data"
    }
   ],
   "source": [
    "TypePlot = plt.hist(merged_complaints_problems_violations.TypeID, bins=9, range=(1,9))\n",
    "plt.title('Distribution of problem type')\n",
    "plt.show(TypePlot)"
   ]
  },
  {
   "cell_type": "markdown",
   "metadata": {},
   "source": [
    "Recall the Type codes mean the problem is considered (a/an):\n",
    "- 1: Emergency\n",
    "- 3: Non-emergency\n",
    "- 4: Immediate emergency"
   ]
  },
  {
   "cell_type": "code",
   "execution_count": 22,
   "metadata": {
    "collapsed": false
   },
   "outputs": [
    {
     "data": {
      "image/png": "[encoded data removed]",
      "text/plain": [
       "<matplotlib.figure.Figure at 0x10c8ba550>"
      ]
     },
     "metadata": {},
     "output_type": "display_data"
    }
   ],
   "source": [
    "UnitTypePlot = plt.hist(merged_complaints_problems_violations.UnitTypeID, bins=3, range=(91,94))\n",
    "plt.title('Distribution of unit type')\n",
    "plt.show(UnitTypePlot)"
   ]
  },
  {
   "cell_type": "markdown",
   "metadata": {},
   "source": [
    "Recall the unit types are:\n",
    "- 91: Apartment\n",
    "- 92: Building wide\n",
    "- 93: Pubic area"
   ]
  },
  {
   "cell_type": "code",
   "execution_count": 21,
   "metadata": {
    "collapsed": false
   },
   "outputs": [
    {
     "data": {
      "image/png": "[encoded data removed]",
      "text/plain": [
       "<matplotlib.figure.Figure at 0x10bc67c50>"
      ]
     },
     "metadata": {},
     "output_type": "display_data"
    }
   ],
   "source": [
    "SpaceTypePlot = plt.hist(merged_complaints_problems_violations.SpaceTypeID, bins=40, range=(540,580))\n",
    "plt.title('Distribution of space type')\n",
    "plt.show(SpaceTypePlot)"
   ]
  },
  {
   "cell_type": "markdown",
   "metadata": {},
   "source": [
    "While there two many features to fully describe here, the top four space types are:\n",
    "- 543: Entire apartment\n",
    "- 541: Bathroom\n",
    "- 546: Kitchen\n",
    "- 551: Air shaft"
   ]
  },
  {
   "cell_type": "code",
   "execution_count": 24,
   "metadata": {
    "collapsed": false
   },
   "outputs": [
    {
     "data": {
      "image/png": "[encoded data removed]",
      "text/plain": [
       "<matplotlib.figure.Figure at 0x10d182490>"
      ]
     },
     "metadata": {},
     "output_type": "display_data"
    }
   ],
   "source": [
    "MajorCat = plt.hist(merged_complaints_problems_violations.MajorCategoryID, bins=70, range=(0,70))\n",
    "plt.title('Distribution of Major Category')\n",
    "plt.show(MajorCat)"
   ]
  },
  {
   "cell_type": "markdown",
   "metadata": {},
   "source": [
    "Again there are too many features to fully describe here, but the top four space types are:\n",
    "- 9: Plumbing\n",
    "- 28: Paint/plaster\n",
    "- 59: Heat/hot water\n",
    "- 63: Unsanitary condition"
   ]
  },
  {
   "cell_type": "code",
   "execution_count": 59,
   "metadata": {
    "collapsed": false
   },
   "outputs": [
    {
     "data": {
      "image/png": "[encoded data removed]",
      "text/plain": [
       "<matplotlib.figure.Figure at 0x10efd4150>"
      ]
     },
     "metadata": {},
     "output_type": "display_data"
    },
    {
     "name": "stdout",
     "output_type": "stream",
     "text": [
      "There are  56  unique values for minor category represented in the dataset.\n"
     ]
    }
   ],
   "source": [
    "minorcat = plt.hist(merged_complaints_problems_violations[\"MinorCategoryID\"].value_counts().values, bins=len(merged_complaints_problems_violations[\"MinorCategoryID\"].value_counts().values))\n",
    "plt.title('Distribution of frequencies of minor category')\n",
    "plt.show(minorcat)\n",
    "print 'There are ', len(merged_complaints_problems_violations[\"MinorCategoryID\"].unique()), ' unique values for minor category represented in the dataset.'"
   ]
  },
  {
   "cell_type": "markdown",
   "metadata": {},
   "source": [
    "The distribution of minor category is shown somewhat differently. Since this is a higher cardinality categorical variable, the frequency of each code is shown. From this plot it is apparent that most of the observations fall into a smaller subset of minor categories."
   ]
  },
  {
   "cell_type": "code",
   "execution_count": 63,
   "metadata": {
    "collapsed": false
   },
   "outputs": [
    {
     "data": {
      "image/png": "[encoded data removed]",
      "text/plain": [
       "<matplotlib.figure.Figure at 0x119d34890>"
      ]
     },
     "metadata": {},
     "output_type": "display_data"
    },
    {
     "name": "stdout",
     "output_type": "stream",
     "text": [
      "There are  161  unique value for CodeID represented in the dataset.\n"
     ]
    }
   ],
   "source": [
    "minorcat = plt.hist(merged_complaints_problems_violations[\"CodeID\"].value_counts().values, bins=50)\n",
    "plt.title('Distribution of frequencies of CodeID category')\n",
    "plt.show(minorcat)\n",
    "print 'There are ', len(merged_complaints_problems_violations[\"CodeID\"].unique()), ' unique value for CodeID represented in the dataset.'"
   ]
  },
  {
   "cell_type": "markdown",
   "metadata": {},
   "source": [
    "Again CodeID is a higher cardinality categorical variable, so the frequency of each code is shown. From this plot it is apparent that many of the observations fall into a smaller subset of CodeID, though this is less true than it was for Minor Category (i.e. the upper tail of this frequency distribution is not as fat)."
   ]
  },
  {
   "cell_type": "code",
   "execution_count": 28,
   "metadata": {
    "collapsed": false
   },
   "outputs": [
    {
     "data": {
      "image/png": "[encoded data removed]",
      "text/plain": [
       "<matplotlib.figure.Figure at 0x10cb58350>"
      ]
     },
     "metadata": {},
     "output_type": "display_data"
    }
   ],
   "source": [
    "Violations = plt.hist(merged_complaints_problems_violations.Tot_A_violations, bins=150, range=(0,150))\n",
    "plt.title('Distribution of violations- Type A')\n",
    "plt.show(Violations)"
   ]
  },
  {
   "cell_type": "code",
   "execution_count": 29,
   "metadata": {
    "collapsed": false
   },
   "outputs": [
    {
     "data": {
      "image/png": "[encoded data removed]",
      "text/plain": [
       "<matplotlib.figure.Figure at 0x10bad0210>"
      ]
     },
     "metadata": {},
     "output_type": "display_data"
    }
   ],
   "source": [
    "Violations = plt.hist(merged_complaints_problems_violations.Tot_B_violations, bins=150, range=(0,150))\n",
    "plt.title('Distribution of violations- Type B')\n",
    "plt.show(Violations)"
   ]
  },
  {
   "cell_type": "code",
   "execution_count": 30,
   "metadata": {
    "collapsed": false
   },
   "outputs": [
    {
     "data": {
      "image/png": "[encoded data removed]",
      "text/plain": [
       "<matplotlib.figure.Figure at 0x10babae10>"
      ]
     },
     "metadata": {},
     "output_type": "display_data"
    }
   ],
   "source": [
    "Violations = plt.hist(merged_complaints_problems_violations.Tot_C_violations, bins=150, range=(0,150))\n",
    "plt.title('Distribution of violations- Type C')\n",
    "plt.show(Violations)"
   ]
  },
  {
   "cell_type": "markdown",
   "metadata": {},
   "source": [
    "Finally, we write this merged dataset to disc for fast loading in future sessions."
   ]
  },
  {
   "cell_type": "code",
   "execution_count": 21,
   "metadata": {
    "collapsed": true
   },
   "outputs": [],
   "source": [
    "merged_complaints_problems_violations.to_csv('data/merged_complaints_problems_violations.csv')"
   ]
  }
 ],
 "metadata": {
  "kernelspec": {
   "display_name": "Python 2",
   "language": "python",
   "name": "python2"
  },
  "language_info": {
   "codemirror_mode": {
    "name": "ipython",
    "version": 2
   },
   "file_extension": ".py",
   "mimetype": "text/x-python",
   "name": "python",
   "nbconvert_exporter": "python",
   "pygments_lexer": "ipython2",
   "version": "2.7.10"
  }
 },
 "nbformat": 4,
 "nbformat_minor": 0
}
