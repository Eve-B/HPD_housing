{
 "cells": [
  {
   "cell_type": "markdown",
   "metadata": {},
   "source": [
    "# Merging cleaned complaints, complaint problems, and violation datasets"
   ]
  },
  {
   "cell_type": "markdown",
   "metadata": {},
   "source": [
    "In this notebook, we will merge the following cleaned and processed datasets:\n",
    "- Complaints\n",
    "- Complaint problems\n",
    "- Housing maintenance code violations\n",
    "\n",
    "Following these merges, we will have the following informative features:\n",
    "* Codes describing the specific problems lodged by the tenant(s)\n",
    "* Building violation histories (total number of Class A, B, and C violations reported over the last 5 years)\n",
    "* BoroughID\n",
    "\n",
    "In addition, we will have the building's BBL, which will eventually be used to merge with PLUTO BBL-level features."
   ]
  },
  {
   "cell_type": "code",
   "execution_count": null,
   "metadata": {
    "collapsed": false
   },
   "outputs": [],
   "source": [
    "import pandas as pd\n",
    "from get_clean_complaints import *\n",
    "from get_clean_problems import *\n",
    "from get_clean_violations import *\n",
    "\n",
    "complaints = get_clean_complaint_data()\n",
    "problems = get_clean_problem_data()\n",
    "\n",
    "merged_complaints_and_problems = pd.merge(problems, complaints, on='ComplaintID', how='inner')\n",
    "merged_complaints_and_problems.head(10)"
   ]
  }
 ],
 "metadata": {
  "kernelspec": {
   "display_name": "Python 2",
   "language": "python",
   "name": "python2"
  },
  "language_info": {
   "codemirror_mode": {
    "name": "ipython",
    "version": 2
   },
   "file_extension": ".py",
   "mimetype": "text/x-python",
   "name": "python",
   "nbconvert_exporter": "python",
   "pygments_lexer": "ipython2",
   "version": "2.7.10"
  }
 },
 "nbformat": 4,
 "nbformat_minor": 0
}
