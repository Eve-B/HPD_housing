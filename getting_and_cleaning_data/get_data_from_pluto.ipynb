{
 "cells": [
  {
   "cell_type": "markdown",
   "metadata": {},
   "source": [
    "# Getting features from NYC PLUTO"
   ]
  },
  {
   "cell_type": "markdown",
   "metadata": {},
   "source": [
    "In this notebook, we will get and clean the NYC PLUTO Data. First, we extract relevant features from the NYC Pluto datasets. Specific features to be extracted include:\n",
    "- Residential Units (sum of residential units in all buildings on the tax lot)\n",
    "- Assessed Total Value (actual assessed total value for FY2015)\n",
    "- Year Built (year construction of the building was completed)\n",
    "- Year Altered 1 (if only one alteration then the year of the most recent alteration; otherwise the year of the second most recent alteration)\n",
    "- Year Altered 2 (if more than one alteration then the year of the most recent alteration otherwise blank).\n",
    "- BBL\n",
    "- Census Tract (CT2010)"
   ]
  },
  {
   "cell_type": "code",
   "execution_count": 42,
   "metadata": {
    "collapsed": false
   },
   "outputs": [],
   "source": [
    "import pandas as pd\n",
    "import re\n",
    "\n",
    "### Read data in from downloaded csv file\n",
    "\n",
    "def read_in_pluto_data():\n",
    "    boroughs = {'bronx':'BX.csv', 'brooklyn':'BK.csv', 'Manhattan':'Mn.csv', 'Queens':'QN.csv', \"Staten_island\":'SI.csv'}\n",
    "    frames = []\n",
    "    for borough in boroughs.keys():\n",
    "        df_name = borough + '_pluto'\n",
    "        file_path = '../../nyc_pluto_15v1/' + boroughs[borough]\n",
    "        df_name = pd.read_csv(file_path)\n",
    "        df_name = df_name[['UnitsRes','AssessTot','YearBuilt','YearAlter1','YearAlter2','BBL', 'CT2010']]\n",
    "        df_name = df_name[(df_name['UnitsRes'] != 0)]\n",
    "        frames.append(df_name)\n",
    "    result = pd.concat(frames, ignore_index=True)\n",
    "    return result\n",
    "\n",
    "pluto_dat = read_in_pluto_data()"
   ]
  },
  {
   "cell_type": "code",
   "execution_count": 43,
   "metadata": {
    "collapsed": false
   },
   "outputs": [
    {
     "data": {
      "text/html": [
       "<div>\n",
       "<table border=\"1\" class=\"dataframe\">\n",
       "  <thead>\n",
       "    <tr style=\"text-align: right;\">\n",
       "      <th></th>\n",
       "      <th>UnitsRes</th>\n",
       "      <th>AssessTot</th>\n",
       "      <th>YearBuilt</th>\n",
       "      <th>YearAlter1</th>\n",
       "      <th>YearAlter2</th>\n",
       "      <th>BBL</th>\n",
       "      <th>CT2010</th>\n",
       "    </tr>\n",
       "  </thead>\n",
       "  <tbody>\n",
       "    <tr>\n",
       "      <th>0</th>\n",
       "      <td>8</td>\n",
       "      <td>104219</td>\n",
       "      <td>1920</td>\n",
       "      <td>2009</td>\n",
       "      <td>0</td>\n",
       "      <td>2022600018</td>\n",
       "      <td>19</td>\n",
       "    </tr>\n",
       "    <tr>\n",
       "      <th>1</th>\n",
       "      <td>8</td>\n",
       "      <td>25876</td>\n",
       "      <td>1920</td>\n",
       "      <td>0</td>\n",
       "      <td>0</td>\n",
       "      <td>2022610037</td>\n",
       "      <td>19</td>\n",
       "    </tr>\n",
       "    <tr>\n",
       "      <th>2</th>\n",
       "      <td>12</td>\n",
       "      <td>347400</td>\n",
       "      <td>1925</td>\n",
       "      <td>0</td>\n",
       "      <td>0</td>\n",
       "      <td>2022610045</td>\n",
       "      <td>19</td>\n",
       "    </tr>\n",
       "    <tr>\n",
       "      <th>3</th>\n",
       "      <td>1255</td>\n",
       "      <td>23375700</td>\n",
       "      <td>1956</td>\n",
       "      <td>0</td>\n",
       "      <td>0</td>\n",
       "      <td>2022630019</td>\n",
       "      <td>25</td>\n",
       "    </tr>\n",
       "    <tr>\n",
       "      <th>4</th>\n",
       "      <td>2</td>\n",
       "      <td>26820</td>\n",
       "      <td>2000</td>\n",
       "      <td>0</td>\n",
       "      <td>0</td>\n",
       "      <td>2022630065</td>\n",
       "      <td>25</td>\n",
       "    </tr>\n",
       "    <tr>\n",
       "      <th>5</th>\n",
       "      <td>2</td>\n",
       "      <td>26820</td>\n",
       "      <td>2000</td>\n",
       "      <td>0</td>\n",
       "      <td>0</td>\n",
       "      <td>2022630066</td>\n",
       "      <td>25</td>\n",
       "    </tr>\n",
       "  </tbody>\n",
       "</table>\n",
       "</div>"
      ],
      "text/plain": [
       "   UnitsRes  AssessTot  YearBuilt  YearAlter1  YearAlter2         BBL CT2010\n",
       "0         8     104219       1920        2009           0  2022600018     19\n",
       "1         8      25876       1920           0           0  2022610037     19\n",
       "2        12     347400       1925           0           0  2022610045     19\n",
       "3      1255   23375700       1956           0           0  2022630019     25\n",
       "4         2      26820       2000           0           0  2022630065     25\n",
       "5         2      26820       2000           0           0  2022630066     25"
      ]
     },
     "execution_count": 43,
     "metadata": {},
     "output_type": "execute_result"
    }
   ],
   "source": [
    "pluto_dat.head(6)"
   ]
  },
  {
   "cell_type": "markdown",
   "metadata": {},
   "source": [
    "In processing the data, our goals it to:\n",
    "- Pad the Ct2010 so it's in the format $d_1d_2d_3d_4d_5d_6$, where $d_5$ and $d_6$ are the decimal portion of the census tract number.\n",
    "- Construct two new features:\n",
    "  - Year of last alteration, defined as $\\max\\{YearAlter1, YearAlter2\\}$.\n",
    "  - Avg_value_per_res_unit, defined as total assessed value per residential unit (constructed as $AssessTot/UnitRes$)\n",
    "- Drop YearAlter1 and YearAlter2.\n",
    "- Drop any rows with missing values"
   ]
  },
  {
   "cell_type": "code",
   "execution_count": 44,
   "metadata": {
    "collapsed": false
   },
   "outputs": [],
   "source": [
    "def proc_tract(val):\n",
    "    val = str(val)\n",
    "    split_val = re.split('\\.',val)\n",
    "    if len(split_val) == 1:\n",
    "        integer = split_val[0].zfill(4)\n",
    "        decimal = '00'\n",
    "    elif len(split_val) == 2:\n",
    "        integer = split_val[0].zfill(4)\n",
    "        decimal = split_val[1].ljust(2, '0')\n",
    "    new_code = integer + decimal\n",
    "    return new_code"
   ]
  },
  {
   "cell_type": "code",
   "execution_count": 45,
   "metadata": {
    "collapsed": false
   },
   "outputs": [
    {
     "data": {
      "text/plain": [
       "(760834, 7)"
      ]
     },
     "execution_count": 45,
     "metadata": {},
     "output_type": "execute_result"
    }
   ],
   "source": [
    "pluto_dat['CT2010'] = pluto_dat['CT2010'].map(proc_tract)\n",
    "pluto_dat['YearLastAlter'] = pluto_dat[['YearAlter1','YearAlter2']].max(axis=1)\n",
    "pluto_dat = pluto_dat.drop(['YearAlter1','YearAlter2'],axis=1)\n",
    "pluto_dat['Avg_value_per_res_unit'] = pluto_dat['AssessTot']/pluto_dat['UnitsRes']\n",
    "pluto_dat.shape"
   ]
  },
  {
   "cell_type": "code",
   "execution_count": 49,
   "metadata": {
    "collapsed": false
   },
   "outputs": [
    {
     "data": {
      "text/plain": [
       "(760833, 7)"
      ]
     },
     "execution_count": 49,
     "metadata": {},
     "output_type": "execute_result"
    }
   ],
   "source": [
    "pluto_dat = pluto_dat[~(pluto_dat.isnull().any(axis=1))]\n",
    "pluto_dat.shape"
   ]
  },
  {
   "cell_type": "code",
   "execution_count": 50,
   "metadata": {
    "collapsed": false
   },
   "outputs": [
    {
     "data": {
      "text/html": [
       "<div>\n",
       "<table border=\"1\" class=\"dataframe\">\n",
       "  <thead>\n",
       "    <tr style=\"text-align: right;\">\n",
       "      <th></th>\n",
       "      <th>UnitsRes</th>\n",
       "      <th>AssessTot</th>\n",
       "      <th>YearBuilt</th>\n",
       "      <th>BBL</th>\n",
       "      <th>CT2010</th>\n",
       "      <th>YearLastAlter</th>\n",
       "      <th>Avg_value_per_res_unit</th>\n",
       "    </tr>\n",
       "  </thead>\n",
       "  <tbody>\n",
       "    <tr>\n",
       "      <th>0</th>\n",
       "      <td>8</td>\n",
       "      <td>104219</td>\n",
       "      <td>1920</td>\n",
       "      <td>2022600018</td>\n",
       "      <td>001900</td>\n",
       "      <td>2009</td>\n",
       "      <td>13027.375000</td>\n",
       "    </tr>\n",
       "    <tr>\n",
       "      <th>1</th>\n",
       "      <td>8</td>\n",
       "      <td>25876</td>\n",
       "      <td>1920</td>\n",
       "      <td>2022610037</td>\n",
       "      <td>001900</td>\n",
       "      <td>0</td>\n",
       "      <td>3234.500000</td>\n",
       "    </tr>\n",
       "    <tr>\n",
       "      <th>2</th>\n",
       "      <td>12</td>\n",
       "      <td>347400</td>\n",
       "      <td>1925</td>\n",
       "      <td>2022610045</td>\n",
       "      <td>001900</td>\n",
       "      <td>0</td>\n",
       "      <td>28950.000000</td>\n",
       "    </tr>\n",
       "    <tr>\n",
       "      <th>3</th>\n",
       "      <td>1255</td>\n",
       "      <td>23375700</td>\n",
       "      <td>1956</td>\n",
       "      <td>2022630019</td>\n",
       "      <td>002500</td>\n",
       "      <td>0</td>\n",
       "      <td>18626.055777</td>\n",
       "    </tr>\n",
       "    <tr>\n",
       "      <th>4</th>\n",
       "      <td>2</td>\n",
       "      <td>26820</td>\n",
       "      <td>2000</td>\n",
       "      <td>2022630065</td>\n",
       "      <td>002500</td>\n",
       "      <td>0</td>\n",
       "      <td>13410.000000</td>\n",
       "    </tr>\n",
       "    <tr>\n",
       "      <th>5</th>\n",
       "      <td>2</td>\n",
       "      <td>26820</td>\n",
       "      <td>2000</td>\n",
       "      <td>2022630066</td>\n",
       "      <td>002500</td>\n",
       "      <td>0</td>\n",
       "      <td>13410.000000</td>\n",
       "    </tr>\n",
       "  </tbody>\n",
       "</table>\n",
       "</div>"
      ],
      "text/plain": [
       "   UnitsRes  AssessTot  YearBuilt         BBL  CT2010  YearLastAlter  \\\n",
       "0         8     104219       1920  2022600018  001900           2009   \n",
       "1         8      25876       1920  2022610037  001900              0   \n",
       "2        12     347400       1925  2022610045  001900              0   \n",
       "3      1255   23375700       1956  2022630019  002500              0   \n",
       "4         2      26820       2000  2022630065  002500              0   \n",
       "5         2      26820       2000  2022630066  002500              0   \n",
       "\n",
       "   Avg_value_per_res_unit  \n",
       "0            13027.375000  \n",
       "1             3234.500000  \n",
       "2            28950.000000  \n",
       "3            18626.055777  \n",
       "4            13410.000000  \n",
       "5            13410.000000  "
      ]
     },
     "execution_count": 50,
     "metadata": {},
     "output_type": "execute_result"
    }
   ],
   "source": [
    "pluto_dat.head(6)"
   ]
  },
  {
   "cell_type": "markdown",
   "metadata": {},
   "source": [
    "Finally, to start getting a sense of the marginal feature distributions, here are some histograms."
   ]
  },
  {
   "cell_type": "code",
   "execution_count": 12,
   "metadata": {
    "collapsed": false
   },
   "outputs": [
    {
     "data": {
      "image/png": "[encoded data removed]",
      "text/plain": [
       "<matplotlib.figure.Figure at 0x10a080710>"
      ]
     },
     "metadata": {},
     "output_type": "display_data"
    }
   ],
   "source": [
    "import matplotlib.pyplot as plt\n",
    "%matplotlib inline\n",
    "\n",
    "val_per_unit = plt.hist(pluto_dat['Avg_value_per_res_unit'], bins=100, range=(0,10**5))\n",
    "plt.title('Avg. assessed value / total residential units, by BBL')\n",
    "plt.show(val_per_unit)"
   ]
  },
  {
   "cell_type": "code",
   "execution_count": 13,
   "metadata": {
    "collapsed": false
   },
   "outputs": [
    {
     "data": {
      "image/png": "[encoded data removed]",
      "text/plain": [
       "<matplotlib.figure.Figure at 0x1077c5910>"
      ]
     },
     "metadata": {},
     "output_type": "display_data"
    }
   ],
   "source": [
    "year_built = plt.hist(pluto_dat['YearBuilt'], bins=len(range(1850,2016)), range=(1850,2015))\n",
    "plt.title('Year built, by BBL')\n",
    "plt.show(year_built)"
   ]
  },
  {
   "cell_type": "code",
   "execution_count": 14,
   "metadata": {
    "collapsed": false
   },
   "outputs": [
    {
     "data": {
      "image/png": "[encoded data removed]",
      "text/plain": [
       "<matplotlib.figure.Figure at 0x109078210>"
      ]
     },
     "metadata": {},
     "output_type": "display_data"
    }
   ],
   "source": [
    "UnitsRes_hist = plt.hist(pluto_dat['UnitsRes'], bins=50, range=(0,50))\n",
    "plt.title('Total number of residential units, by BBL')\n",
    "plt.show(UnitsRes_hist)"
   ]
  },
  {
   "cell_type": "code",
   "execution_count": 21,
   "metadata": {
    "collapsed": false
   },
   "outputs": [
    {
     "data": {
      "image/png": "[encoded data removed]",
      "text/plain": [
       "<matplotlib.figure.Figure at 0x10c8489d0>"
      ]
     },
     "metadata": {},
     "output_type": "display_data"
    },
    {
     "name": "stdout",
     "output_type": "stream",
     "text": [
      " Number of buildings with no alterations reported =  695400\n"
     ]
    }
   ],
   "source": [
    "Year_mod = plt.hist(pluto_dat['YearLastAlter'], bins=100, range=(1900,2015))\n",
    "plt.title('Year building was last altered, by BBL',)\n",
    "plt.show(UnitsRes_hist)\n",
    "print 'Number of buildings with no alterations reported = ', (pluto_dat['YearLastAlter'] == 0).sum()"
   ]
  },
  {
   "cell_type": "markdown",
   "metadata": {},
   "source": [
    "Notice the vast majority, $\\frac{695400}{760833} \\approx 93.1\\%$, of buildings have no reported alterations."
   ]
  },
  {
   "cell_type": "code",
   "execution_count": 26,
   "metadata": {
    "collapsed": false
   },
   "outputs": [
    {
     "data": {
      "image/png": "[encoded data removed]",
      "text/plain": [
       "<matplotlib.figure.Figure at 0x109f9c550>"
      ]
     },
     "metadata": {},
     "output_type": "display_data"
    }
   ],
   "source": [
    "Tot_val = plt.hist(pluto_dat['AssessTot'], bins=100, range=(0,600000))\n",
    "plt.title('Total assessed value, by BBL',)\n",
    "plt.show(Tot_val)"
   ]
  }
 ],
 "metadata": {
  "kernelspec": {
   "display_name": "Python 2",
   "language": "python",
   "name": "python2"
  },
  "language_info": {
   "codemirror_mode": {
    "name": "ipython",
    "version": 2
   },
   "file_extension": ".py",
   "mimetype": "text/x-python",
   "name": "python",
   "nbconvert_exporter": "python",
   "pygments_lexer": "ipython2",
   "version": "2.7.10"
  }
 },
 "nbformat": 4,
 "nbformat_minor": 0
}
